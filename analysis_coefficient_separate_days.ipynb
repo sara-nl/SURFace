{
 "cells": [
  {
   "cell_type": "code",
   "execution_count": 1,
   "metadata": {},
   "outputs": [],
   "source": [
    "import os\n",
    "from distutils.dir_util import copy_tree\n",
    "import itertools\n",
    "import scipy\n",
    "from scipy import stats\n",
    "import dask.dataframe as dd\n",
    "import pandas as pd\n",
    "import numpy as np\n",
    "import random\n",
    "import matplotlib.pyplot as plt\n",
    "import time, pytz\n",
    "from datetime import datetime\n",
    "from matplotlib.ticker import MultipleLocator, FixedLocator, LogLocator, NullFormatter, ScalarFormatter"
   ]
  },
  {
   "cell_type": "code",
   "execution_count": 2,
   "metadata": {},
   "outputs": [],
   "source": [
    "store_location = \"./SurfCoefficients50days/\"\n",
    "\n",
    "combination_tuples_pearson = dict()\n",
    "combination_tuples_spearman = dict()\n",
    "combination_tuples_kendall = dict()"
   ]
  },
  {
   "cell_type": "code",
   "execution_count": 3,
   "metadata": {},
   "outputs": [],
   "source": [
    "# WARNING: LOADING ALL RAW DATA TAKES A LONG TIME, USE THE DF CELL AS THAT IS PROCESSED AND STORED IN PARQUET IF AVAILABLE.\n",
    "folders = next(os.walk(store_location))[1]\n",
    "\n",
    "for folder in folders:\n",
    "    start_date = folder.split(\"_\")[0]\n",
    "    \n",
    "    for combination_file in next(os.walk(os.path.join(store_location, folder)))[2]:\n",
    "        with open(os.path.join(store_location, folder, combination_file)) as coef_file:\n",
    "            pc, sc, kc = coef_file.readline().split(\"|\")\n",
    "            pv_pc, pv_sc, pv_kc = coef_file.readline().split(\"|\")\n",
    "            combination_tuples_pearson.setdefault(combination_file, []).append((pc, start_date, pv_pc))\n",
    "            combination_tuples_spearman.setdefault(combination_file, []).append((sc, start_date, pv_sc))\n",
    "            combination_tuples_kendall.setdefault(combination_file, []).append((kc, start_date, pv_kc))"
   ]
  },
  {
   "cell_type": "code",
   "execution_count": 204,
   "metadata": {},
   "outputs": [
    {
     "name": "stdout",
     "output_type": "stream",
     "text": [
      "node_netstat_TcpExt_TCPFastRetrans+node_netstat_TcpExt_TCPAutoCorking_correlations.csv 50\n",
      "node_memory_Slab+node_memory_Active_file_correlations.csv 50\n",
      "nvidia_gpu_fanspeed_percent+node_memory_MemFree_correlations.csv 50\n",
      "node_memory_Buffers+node_sockstat_sockets_used_correlations.csv 50\n"
     ]
    }
   ],
   "source": [
    "threshold = 0.7\n",
    "\n",
    "for combination, values in combination_tuples_pearson.items():\n",
    "    num_values_above_threshold = sum([1 if abs(float(v[0])) >= threshold else 0 for v in values])\n",
    "    if num_values_above_threshold == len(next(os.walk(store_location))[1]):\n",
    "        print(combination)\n"
   ]
  },
  {
   "cell_type": "code",
   "execution_count": 7,
   "metadata": {},
   "outputs": [],
   "source": [
    "# Execute this cell to generate the plots\n",
    "cache_location = \"./cache/correlation_coefficients_50_separate_days.parquet\"\n",
    "if not os.path.exists(cache_location):\n",
    "    tuple_list = [val for i in combination_tuples_spearman.keys() for val in combination_tuples_spearman[i]]\n",
    "    df = pd.DataFrame(tuple_list, columns=['coef', 'start_date', 'pval'])\n",
    "    df = df.replace(\"nan\", np.nan).dropna().reset_index(drop=True)\n",
    "    df['start_date'] = pd.to_datetime(df['start_date'], unit='s')\n",
    "    df['coef'] = df['coef'].astype(np.float)\n",
    "    df.to_parquet(cache_location, engine='pyarrow')\n",
    "else:\n",
    "    df = pd.read_parquet(cache_location, engine='pyarrow')"
   ]
  },
  {
   "cell_type": "code",
   "execution_count": 59,
   "metadata": {},
   "outputs": [
    {
     "data": {
      "image/png": "[encoded data removed]",
      "text/plain": [
       "<Figure size 792x216 with 1 Axes>"
      ]
     },
     "metadata": {
      "needs_background": "light"
     },
     "output_type": "display_data"
    }
   ],
   "source": [
    "fig, ax = plt.subplots(figsize=(11, 3))\n",
    "ax.tick_params(axis='both', which='major', labelsize=14)\n",
    "ax.tick_params(axis='both', which='minor', labelsize=14)\n",
    "ax.set_xlabel(\"Day\", fontsize=18)\n",
    "ax.set_ylabel(\"Number of Pairs\", fontsize=20)\n",
    "\n",
    "# These two must match in size for the zip() function later\n",
    "thresholds = [0.9,\n",
    "#               0.7,\n",
    "#               0.5,\n",
    "             ]\n",
    "colors = [\"lightcoral\", \"steelblue\", \"yellowgreen\"]\n",
    "linestyles = ['solid', 'dashed', 'dotted']\n",
    "\n",
    "bottom = None\n",
    "for threshold, color, linestyle in zip(thresholds, colors, linestyles):\n",
    "    count_df = df[df['coef'].abs() >= threshold].groupby('start_date').count().rename(columns={'coef': 'count'})\n",
    "    data = count_df.copy()\n",
    "    if bottom is not None:\n",
    "        data['count'] -= bottom['count']  # As we expect more matches for a lower threshold, subtract the previous one to get the correct stack\n",
    "    \n",
    "    ax.bar(x=range(len(data)), height=data['count'], bottom=bottom['count'] if bottom is not None else 0, label=f\"Number of correlated pairs present on each day\", color=color)\n",
    "    bottom = count_df\n",
    "    \n",
    "    num_coef_corr_all_days = 0\n",
    "    for combination, values in combination_tuples_spearman.items():\n",
    "        num_values_above_threshold = sum([1 if abs(float(v[0])) >= threshold else 0 for v in values])\n",
    "        if num_values_above_threshold == len(next(os.walk(store_location))[1]):\n",
    "            num_coef_corr_all_days += 1\n",
    "    \n",
    "    ax.hlines(num_coef_corr_all_days, xmin=-.8, xmax=len(data) - .2, color=\"black\", linestyle=linestyle, label=f\"{num_coef_corr_all_days} correlated pairs are present on all days\")\n",
    "\n",
    "def get_converted_xticks(ax):\n",
    "    \"\"\"\n",
    "    :param ax:\n",
    "    :return list of day and month strings\n",
    "    \"\"\"\n",
    "    # return [pd.to_datetime(start + tick, unit='s').date().strftime(\"%d\\n%b\") for tick in ax.get_xticks()]\n",
    "    return [int((tick) / 3600) for tick in ax.get_xticks()]  # Get the hour number\n",
    "\n",
    "ax.legend(prop={\"size\": 14})\n",
    "\n",
    "# you MUST use xycoords = data with this function\n",
    "def my_annotate(ax, s, xy_arr=[], *args, **kwargs):  # modified from https://stackoverflow.com/a/14545981\n",
    "    ans = []\n",
    "    kwargs_copy = kwargs.copy()\n",
    "    kwargs_copy.pop('arrowprops', None)\n",
    "    an = ax.annotate(s, xy_arr[0], *args, **kwargs_copy)\n",
    "    ans.append(an)\n",
    "    d = {}\n",
    "    xytext = kwargs['xytext']\n",
    "    if 'arrowprops' in kwargs:\n",
    "        d['arrowprops'] = kwargs['arrowprops']\n",
    "    if 'ha' in kwargs:\n",
    "        d['ha'] = kwargs['ha']\n",
    "    if 'va' in kwargs:\n",
    "        d['va'] = kwargs['va']\n",
    "    for xy in xy_arr[0:]:\n",
    "        # Hack to make the arrows start at the same position\n",
    "        an = ax.annotate('', xy, alpha=0.0, xytext=xytext, xycoords='data', **d)\n",
    "        ans.append(an)\n",
    "    return ans\n",
    "\n",
    "my_annotate(ax,\n",
    "            s='The number of correlating pairs differs significantly per day',\n",
    "            xy_arr=[[4, 200], [5, 150], [7, 118]],\n",
    "            xytext=(10, 130), xycoords='data', # xytext based on the first point\n",
    "            ha='left', va='center', \n",
    "            fontsize=14,\n",
    "            arrowprops=dict(arrowstyle=\"-|>\",\n",
    "                            connectionstyle=\"arc\",\n",
    "                            color=\"black\")\n",
    "           )\n",
    "ax.set_yticks( [0,40,80,120,160,200])\n",
    "ax.set_yticklabels(['0', '40', '', '', '', '200'])\n",
    "\n",
    "date_time = datetime.now().strftime(\"%Y-%m-%d-%H-%M-%S\")\n",
    "fig.savefig(f\"spearman_correlations_50_days_{date_time}.pdf\", bbox_inches = \"tight\")\n",
    "# fig.savefig(f\"spearman_correlations_50_days_{date_time}.png\", bbox_inches = \"tight\")"
   ]
  },
  {
   "cell_type": "code",
   "execution_count": 44,
   "metadata": {},
   "outputs": [],
   "source": [
    "threshold = 0.8\n",
    "\n",
    "unique_pairs = set()\n",
    "for combination, values in combination_tuples_spearman.items():\n",
    "    num_values_above_threshold = sum([1 if abs(float(v[0])) >= threshold else 0 for v in values])\n",
    "    if num_values_above_threshold > 0:\n",
    "        pair = combination.replace(\".csv\", \"\").split(\"+\")\n",
    "        unique_pairs.add((pair[0], pair[1]))\n",
    "\n",
    "\n",
    "with open(f'./cache/all_pairs_above_{threshold}_spearman.csv', 'w') as outfile:\n",
    "    for pair in unique_pairs:\n",
    "        outfile.write(f'{pair[0]}, {pair[1]}\\n')"
   ]
  },
  {
   "cell_type": "code",
   "execution_count": 4,
   "metadata": {},
   "outputs": [],
   "source": [
    "threshold = 0.9\n",
    "unique_pairs = set()\n",
    "\n",
    "for combination, values in combination_tuples_spearman.items():\n",
    "    num_values_above_threshold = sum([1 if abs(float(v[0])) >= threshold else 0 for v in values])\n",
    "    if num_values_above_threshold == len(next(os.walk(store_location))[1]):\n",
    "        pair = combination.replace(\".csv\", \"\").split(\"+\")\n",
    "        unique_pairs.add((pair[0], pair[1]))\n",
    "\n",
    "\n",
    "with open(f'./cache/all_persistent_pairs_above_equal_{threshold}_spearman.csv', 'w') as outfile:\n",
    "    for pair in unique_pairs:\n",
    "        outfile.write(f'{pair[0]}, {pair[1]}\\n')\n",
    "\n"
   ]
  },
  {
   "cell_type": "code",
   "execution_count": 5,
   "metadata": {},
   "outputs": [],
   "source": [
    "threshold = 0.9\n",
    "unique_pairs = set()\n",
    "\n",
    "for combination, values in combination_tuples_spearman.items():\n",
    "    num_values_above_threshold = sum([1 if abs(float(v[0])) >= threshold else 0 for v in values])\n",
    "    if num_values_above_threshold >= 0:\n",
    "        pair = combination.replace(\".csv\", \"\").split(\"+\")\n",
    "        unique_pairs.add((pair[0], pair[1]))\n",
    "\n",
    "\n",
    "with open(f'./cache/all_pairs_above_equal_{threshold}_spearman.csv', 'w') as outfile:\n",
    "    for pair in unique_pairs:\n",
    "        outfile.write(f'{pair[0]}, {pair[1]}\\n')\n",
    "\n"
   ]
  }
 ],
 "metadata": {
  "kernelspec": {
   "display_name": "Python 3",
   "language": "python",
   "name": "python3"
  },
  "language_info": {
   "codemirror_mode": {
    "name": "ipython",
    "version": 3
   },
   "file_extension": ".py",
   "mimetype": "text/x-python",
   "name": "python",
   "nbconvert_exporter": "python",
   "pygments_lexer": "ipython3",
   "version": "3.7.4"
  }
 },
 "nbformat": 4,
 "nbformat_minor": 4
}
