{
 "cells": [
  {
   "cell_type": "code",
   "execution_count": null,
   "id": "urban-presentation",
   "metadata": {},
   "outputs": [],
   "source": [
    "import os \n",
    "import tempfile\n",
    "import pandas as pd"
   ]
  },
  {
   "cell_type": "code",
   "execution_count": null,
   "id": "discrete-device",
   "metadata": {},
   "outputs": [],
   "source": [
    "data_root = \"/path/to/processed-surf-dataset/\"\n",
    "time_granularities = ['60s', '300s', '600s']\n",
    "\n",
    "datasets = ['node_load1', 'node_sockstat_sockets_used']\n",
    "dfs = []\n",
    "\n",
    "def get_sizes_of_files(full_path):\n",
    "    size = 0\n",
    "    for path, dirs, files in os.walk(full_path):\n",
    "        for f in files:\n",
    "            fp = os.path.join(path, f)\n",
    "            size += os.stat(fp).st_size\n",
    "    return size\n",
    "\n",
    "dataset_sizes = dict()\n",
    "\n",
    "for dataset in datasets:\n",
    "    dataset_sizes.setdefault('15s', 0)\n",
    "    dataset_sizes['15s'] += get_sizes_of_files(os.path.join(data_root, dataset))\n",
    "    df = pd.read_parquet(os.path.join(data_root, dataset), engine='pyarrow')\n",
    "    df.index = pd.to_datetime(df.index, utc=True, unit=\"s\")\n",
    "    dfs.append(df)\n",
    "\n",
    "for time_granularity in time_granularities:\n",
    "    dataset_sizes.setdefault(time_granularity, 0)\n",
    "    for df in dfs:\n",
    "        with tempfile.NamedTemporaryFile() as fp:        \n",
    "            temp = df.resample(time_granularity).mean()\n",
    "            temp.to_parquet(fp, engine='pyarrow')\n",
    "            dataset_sizes[time_granularity] += os.stat(fp.name).st_size"
   ]
  },
  {
   "cell_type": "code",
   "execution_count": null,
   "id": "aging-lewis",
   "metadata": {},
   "outputs": [],
   "source": [
    "for g, v in dataset_sizes.items():\n",
    "    print(g, f\"{v/1024/2014:,.2f}\")"
   ]
  }
 ],
 "metadata": {
  "kernelspec": {
   "display_name": "Python 3",
   "language": "python",
   "name": "python3"
  },
  "language_info": {
   "codemirror_mode": {
    "name": "ipython",
    "version": 3
   },
   "file_extension": ".py",
   "mimetype": "text/x-python",
   "name": "python",
   "nbconvert_exporter": "python",
   "pygments_lexer": "ipython3",
   "version": "3.7.4"
  }
 },
 "nbformat": 4,
 "nbformat_minor": 5
}
