{
 "cells": [
  {
   "cell_type": "code",
   "execution_count": 15,
   "metadata": {},
   "outputs": [],
   "source": [
    "# Required packages for processing\n",
    "import os\n",
    "import pandas as pd\n",
    "import numpy as np\n",
    "import pytz, time\n",
    "import matplotlib.pyplot as plt\n",
    "from multiprocessing import cpu_count\n",
    "from pandarallel import pandarallel\n",
    "import seaborn as sns\n",
    "from datetime import datetime\n",
    "\n",
    "\n",
    "%matplotlib inline"
   ]
  },
  {
   "cell_type": "code",
   "execution_count": 2,
   "metadata": {},
   "outputs": [],
   "source": [
    "def preprocess_parquet_to_df(name):\n",
    "    location_dataset = \"path to machine metric dataset\"\n",
    "    df = pd.read_parquet(os.path.join(location_dataset, name))\n",
    "    df = df.replace(-1, 0)\n",
    "    df = df.fillna(0)\n",
    "    df[\"dt\"] = pd.to_datetime(df.index, utc=True, unit=\"s\")\n",
    "    df[\"dt\"] = df[\"dt\"].dt.tz_convert(pytz.timezone('Europe/Amsterdam')).dt.tz_localize(None)\n",
    "    df = df.set_index(\"dt\")\n",
    "    df = df.sort_index()\n",
    "    df['Total']= df.sum(axis=1)\n",
    "    return(df)\n",
    "\n",
    "def preprocess_jobdata_to_df(name):\n",
    "    location_job_data_csv = \"path to job data\"\n",
    "    with open(os.path.join(location_job_data_csv, name),'r') as file:\n",
    "        filedata = file.read()\n",
    "        filedata = filedata.replace('None assigned','NoneAssigned')\n",
    "    with open(os.path.join(location_job_data_csv, str('processed_'+name)),'w') as file:\n",
    "        file.write(filedata)\n",
    "    jobdata = pd.read_fwf(os.path.join(location_job_data_csv, str('processed_'+name)), delimiter=r\"\\s+\", header=None)#, low_memory=False)\n",
    "    jobdata = jobdata.apply(lambda x: x.str.strip() if x.dtype == \"object\" else x)\n",
    "    jobdata = jobdata.rename(columns=jobdata.iloc[0]).drop(jobdata.index[0])\n",
    "    jobdata = jobdata.iloc[1:]\n",
    "    jobdata = jobdata.astype({\"ElapsedRaw\": int, \"CPUTimeRAW\": int, \"NCPUS\": int})\n",
    "    return(jobdata)\n",
    "\n",
    "def split_nodes(s):\n",
    "    if s is None or len(s) == 0:\n",
    "        return set()\n",
    "    \n",
    "    s = s.replace(\"\\r\\n\", \"\").replace(\"\\n\", \"\").replace(\"\\t\", \"\")\n",
    "\n",
    "    start = 0\n",
    "    index = 0\n",
    "    rack_chunks = []\n",
    "    in_bracket = False\n",
    "    while index < len(s):  # Separate them in parts like r12n[1-30,32] or r13n1\n",
    "        if s[index] == \"[\":\n",
    "            in_bracket = True\n",
    "        elif s[index] == \"]\":\n",
    "            in_bracket = False\n",
    "        elif s[index] == \",\" and not in_bracket:\n",
    "            rack_chunks.append(s[start: index])\n",
    "            start = index + 1\n",
    "        index += 1\n",
    "    rack_chunks.append(s[start: index])  # Add the last line\n",
    "    \n",
    "    node_names = set()\n",
    "\n",
    "    for rack_chunk in rack_chunks:\n",
    "        if \"[\" in rack_chunk:\n",
    "            prefix, postfix = rack_chunk.split(\"[\")\n",
    "            postfix = postfix[:-1]  # Remove the last bracket\n",
    "            nodes = postfix.split(\",\")\n",
    "            for node in nodes:\n",
    "                if \"-\" in node:\n",
    "                    start, end = node.split(\"-\")\n",
    "                    if not start.isnumeric() or not end.isnumeric():\n",
    "                        print(\"???\", s)\n",
    "                        continue\n",
    "                    for i in range(int(start), int(end) + 1):\n",
    "                        node_names.add(\"{}{}\".format(prefix, i))\n",
    "                else:\n",
    "                    node_names.add(\"{}{}\".format(prefix, node))\n",
    "        else:\n",
    "            node_names.add(rack_chunk)\n",
    "\n",
    "    return node_names\n",
    "\n",
    "def calculate_perjob(row, data_type):\n",
    "    start = row[\"Start\"]\n",
    "    end = row[\"End\"]\n",
    "    nodes = row[\"NodeList\"]\n",
    "    selection = data_type.loc[start:end]\n",
    "\n",
    "    splitnodes = split_nodes(nodes)\n",
    "    intersection_nodes = set(selection.columns).intersection(splitnodes)\n",
    "\n",
    "    return selection[intersection_nodes].sum().sum()  # First is per column, second is summing the series"
   ]
  },
  {
   "cell_type": "code",
   "execution_count": null,
   "metadata": {},
   "outputs": [],
   "source": [
    "# Load and preprocess data\n",
    "node_sockstat_TCP_mem = preprocess_parquet_to_df(\"node_sockstat_TCP_mem\")\n",
    "node_sockstat_UDP_mem = preprocess_parquet_to_df(\"node_sockstat_UDP_mem\")\n",
    "node_network_transmit_packets = preprocess_parquet_to_df(\"node_network_transmit_packets\")\n",
    "jobdata = preprocess_jobdata_to_df(\"jobdata.csv\")"
   ]
  },
  {
   "cell_type": "code",
   "execution_count": null,
   "metadata": {},
   "outputs": [],
   "source": [
    "print(node_sockstat_TCP_mem)"
   ]
  },
  {
   "cell_type": "code",
   "execution_count": null,
   "metadata": {},
   "outputs": [],
   "source": [
    "# Check if preprocessing was executed as expected\n",
    "filtered_jobdata = jobdata[(jobdata[\"Start\"] >= '2019-12-29 23:00:00') & (jobdata[\"Start\"] <= '2020-08-07 21:59:45')]\n",
    "filtered_jobdata = filtered_jobdata[(~filtered_jobdata[\"NodeList\"].str.contains(\"None\")) & (~filtered_jobdata[\"NodeList\"].str.contains(\"software\")) & (~filtered_jobdata[\"NodeList\"].str.contains(\"login\"))]\n",
    "filtered_jobdata[\"ElapsedRaw\"] = filtered_jobdata[\"ElapsedRaw\"]\n",
    "#print(filtered_jobdata)"
   ]
  },
  {
   "cell_type": "code",
   "execution_count": null,
   "metadata": {},
   "outputs": [],
   "source": [
    "filtered_jobdata.to_pickle(\"filtered_jobdata.pkl\")"
   ]
  },
  {
   "cell_type": "code",
   "execution_count": null,
   "metadata": {},
   "outputs": [],
   "source": [
    "if not os.path.exists(\"./cache/node_sockstat_TCP_mem_perjob.csv\"):\n",
    "    pandarallel.initialize(nb_workers=min(cpu_count(), 16), progress_bar=True)\n",
    "    node_sockstat_TCP_mem_perjob = filtered_jobdata\n",
    "    node_sockstat_TCP_mem_perjob[\"node_sockstat_TCP_mem\"] =  node_sockstat_TCP_mem_perjob.parallel_apply(calculate_perjob, axis=1, data_type=node_sockstat_TCP_mem)\n",
    "    node_sockstat_TCP_mem_perjob.to_csv('/var/scratch/lvs215/cache/node_sockstat_TCP_mem_perjob.csv')\n"
   ]
  },
  {
   "cell_type": "code",
   "execution_count": null,
   "metadata": {},
   "outputs": [],
   "source": [
    "if not os.path.exists(\"./cache/node_sockstat_UDP_mem_perjob.csv\"):\n",
    "    pandarallel.initialize(nb_workers=min(cpu_count(), 16), progress_bar=True)\n",
    "    node_sockstat_UDP_mem_perjob = filtered_jobdata  # If cell above is executed, it will be essentially be node_sockstat_TCP_mem_perjob etc.\n",
    "    node_sockstat_UDP_mem_perjob[\"node_sockstat_UDP_mem\"] = node_sockstat_UDP_mem_perjob.parallel_apply(calculate_perjob, axis=1, data_type=node_sockstat_UDP_mem)\n",
    "    node_sockstat_UDP_mem_perjob.to_csv('/var/scratch/lvs215/cache/node_sockstat_UDP_mem_perjob.csv')"
   ]
  },
  {
   "cell_type": "code",
   "execution_count": null,
   "metadata": {},
   "outputs": [],
   "source": [
    "if not os.path.exists(\"./cache/node_network_transmit_packets_perjob.csv\"):\n",
    "    pandarallel.initialize(nb_workers=min(cpu_count(), 16), progress_bar=True)\n",
    "    node_network_transmit_packets_perjob = filtered_jobdata\n",
    "    node_network_transmit_packets_perjob[\"node_network_transmit_packets\"] = node_network_transmit_packets_perjob.parallel_apply(calculate_perjob, axis=1, data_type=node_network_transmit_packets)\n",
    "    node_network_transmit_packets_perjob.to_csv('/var/scratch/lvs215/cache/node_network_transmit_packets_perjob.csv')"
   ]
  },
  {
   "cell_type": "code",
   "execution_count": 4,
   "metadata": {},
   "outputs": [
    {
     "name": "stdout",
     "output_type": "stream",
     "text": [
      "         Unnamed: 0       JobID    GID      UID   Partition  \\\n",
      "0                14  4175808_96  41405  41660.0      normal   \n",
      "1                15  4175808_97  41405  41660.0      normal   \n",
      "2                16  4175808_98  41405  41660.0      normal   \n",
      "3                17  4175808_99  41405  41660.0      normal   \n",
      "4                18  4175810_79  41405  41660.0      normal   \n",
      "...             ...         ...    ...      ...         ...   \n",
      "2248445     2310967     6495652  50410  50776.0  gpu_shared   \n",
      "2248446     2310968     6495653  50410  50776.0  gpu_shared   \n",
      "2248447     2310969     6495654  50410  50776.0  gpu_shared   \n",
      "2248448     2310993     6495678  50911  51274.0      normal   \n",
      "2248450     2311010     6495695  50911  51274.0      normal   \n",
      "\n",
      "                      Submit                Start                  End  \\\n",
      "0        2019-12-27T20:13:31  2019-12-31T20:18:11  2020-01-01T02:53:31   \n",
      "1        2019-12-27T20:13:31  2019-12-31T20:50:00  2020-01-01T02:16:40   \n",
      "2        2019-12-27T20:13:31  2019-12-31T21:52:36  2020-01-01T04:34:50   \n",
      "3        2019-12-27T20:13:31  2019-12-31T23:38:51  2020-01-01T05:03:58   \n",
      "4        2019-12-27T20:13:31  2019-12-31T20:20:23  2020-01-01T01:16:36   \n",
      "...                      ...                  ...                  ...   \n",
      "2248445  2020-08-06T23:32:11  2020-08-06T23:49:34  2020-08-07T03:02:43   \n",
      "2248446  2020-08-06T23:32:11  2020-08-06T23:49:34  2020-08-07T05:17:18   \n",
      "2248447  2020-08-06T23:32:11  2020-08-06T23:59:13  2020-08-07T09:56:46   \n",
      "2248448  2020-08-06T23:33:40  2020-08-06T23:37:55  2020-08-06T23:55:56   \n",
      "2248450  2020-08-06T23:41:42  2020-08-06T23:46:28  2020-08-07T00:03:11   \n",
      "\n",
      "         ElapsedRaw  CPUTimeRAW  NCPUS  NNode      NodeList ExitCode  \\\n",
      "0        395.333333      379520     16      1        r26n31      0:0   \n",
      "1        326.666667      313600     16      1        r14n32      0:0   \n",
      "2        402.233333      386144     16      1         r27n8      0:0   \n",
      "3        325.116667      312112     16      1        r12n20      0:0   \n",
      "4        296.216667      284368     16      1        r13n29      0:0   \n",
      "...             ...         ...    ...    ...           ...      ...   \n",
      "2248445  193.150000       34767      3      1         r32n3      0:0   \n",
      "2248446  327.733333       58992      3      1         r32n3      0:0   \n",
      "2248447  597.550000      107559      3      1         r30n6      0:0   \n",
      "2248448   18.016667       34592     32      2  r13n9,r15n19      0:0   \n",
      "2248450   16.716667       32096     32      2   r10n[12,31]      0:0   \n",
      "\n",
      "             State   Timelimit  node_sockstat_TCP_mem  \n",
      "0        COMPLETED  1-00:00:00                 3163.0  \n",
      "1        COMPLETED  1-00:00:00                 2612.0  \n",
      "2        COMPLETED  1-00:00:00                 3434.0  \n",
      "3        COMPLETED  1-00:00:00                 2602.0  \n",
      "4        COMPLETED  1-00:00:00                 2380.0  \n",
      "...            ...         ...                    ...  \n",
      "2248445  COMPLETED  1-01:00:00                16694.0  \n",
      "2248446  COMPLETED  1-01:00:00                26031.0  \n",
      "2248447  COMPLETED  1-01:00:00                40234.0  \n",
      "2248448  COMPLETED    04:21:00                  600.0  \n",
      "2248450  COMPLETED    04:21:00                  541.0  \n",
      "\n",
      "[891272 rows x 17 columns]\n"
     ]
    }
   ],
   "source": [
    "# Exclude 0 values, since in this instance we only want to analyze jobs with traffic\n",
    "node_sockstat_TCP_mem_perjob = pd.read_csv('./cache/node_sockstat_TCP_mem_perjob.csv')  \n",
    "node_sockstat_TCP_mem_perjob = node_sockstat_TCP_mem_perjob[(node_sockstat_TCP_mem_perjob[\"node_sockstat_TCP_mem\"] > 0)]\n",
    "# Transform runtime to hours\n",
    "node_sockstat_TCP_mem_perjob[\"ElapsedRaw\"] = node_sockstat_TCP_mem_perjob[\"ElapsedRaw\"] * 60  # Back to minutes\n",
    "print(node_sockstat_TCP_mem_perjob)"
   ]
  },
  {
   "cell_type": "code",
   "execution_count": 5,
   "metadata": {},
   "outputs": [
    {
     "name": "stdout",
     "output_type": "stream",
     "text": [
      "mean_5min 96.32621363615068\n",
      "mean_1hr 4769.480238931925\n",
      "mean_6hrs 49707.708872564675\n",
      "mean_1day 133187.728128707\n",
      "mean_1to5days 2034087.5957803885\n"
     ]
    }
   ],
   "source": [
    "# Calculate averages for different time bins\n",
    "average_5min_TCP = (np.mean(node_sockstat_TCP_mem_perjob.loc[node_sockstat_TCP_mem_perjob[\"ElapsedRaw\"] < 5, \"node_sockstat_TCP_mem\"]))\n",
    "average_1hr_TCP = (np.mean(node_sockstat_TCP_mem_perjob.loc[(node_sockstat_TCP_mem_perjob[\"ElapsedRaw\"] >= 5) & (node_sockstat_TCP_mem_perjob[\"ElapsedRaw\"] < 60), \"node_sockstat_TCP_mem\"]))\n",
    "average_6hrs_TCP = (np.mean(node_sockstat_TCP_mem_perjob.loc[(node_sockstat_TCP_mem_perjob[\"ElapsedRaw\"] >= 60) & (node_sockstat_TCP_mem_perjob[\"ElapsedRaw\"] < 360), \"node_sockstat_TCP_mem\"]))\n",
    "average_1day_TCP = (np.mean(node_sockstat_TCP_mem_perjob.loc[(node_sockstat_TCP_mem_perjob[\"ElapsedRaw\"] >= 360) & (node_sockstat_TCP_mem_perjob[\"ElapsedRaw\"] < 1440), \"node_sockstat_TCP_mem\"]))\n",
    "average_1to5days_TCP = (np.mean(node_sockstat_TCP_mem_perjob.loc[(node_sockstat_TCP_mem_perjob[\"ElapsedRaw\"] >= 1440), \"node_sockstat_TCP_mem\"]))\n",
    "print(\"mean_5min\",average_5min_TCP)\n",
    "print(\"mean_1hr\",average_1hr_TCP)\n",
    "print(\"mean_6hrs\",average_6hrs_TCP)\n",
    "print(\"mean_1day\",average_1day_TCP)\n",
    "print(\"mean_1to5days\",average_1to5days_TCP)"
   ]
  },
  {
   "cell_type": "code",
   "execution_count": 6,
   "metadata": {},
   "outputs": [
    {
     "name": "stderr",
     "output_type": "stream",
     "text": [
      "<ipython-input-6-ca4e7cdd28e7>:7: UserWarning: Attempting to set identical bottom == top == 1 results in singular transformations; automatically expanding.\n",
      "  plt.ylim(bottom=1)\n"
     ]
    },
    {
     "data": {
      "image/png": "[encoded data removed]",
      "text/plain": [
       "<Figure size 792x360 with 1 Axes>"
      ]
     },
     "metadata": {
      "needs_background": "light"
     },
     "output_type": "display_data"
    }
   ],
   "source": [
    "# Visualize results\n",
    "cat = ['<5 minutes', '<1 hour', '<6 hours', '<1 day', '1 to 5 days']\n",
    "vals = [average_5min_TCP, average_1hr_TCP, average_6hrs_TCP, average_1day_TCP, average_1to5days_TCP]\n",
    "\n",
    "fig = plt.figure(figsize=(11, 5))\n",
    "plt.yscale(\"symlog\")\n",
    "plt.ylim(bottom=1)\n",
    "plt.ylim(top=10**5.8)\n",
    "plt.locator_params(axis='y', numticks=12)\n",
    "plt.bar(cat, vals, width=1, edgecolor=\"black\", color=\"lightcoral\")\n",
    "plt.xlabel(\"Job duration - Each previous category is excluded in the next\")\n",
    "plt.ylabel(\"Mean node_sockstat_TCP_mem\")\n",
    "plt.tight_layout()\n",
    "fig.savefig(\"TCP_mem_job_duration.pdf\")"
   ]
  },
  {
   "cell_type": "code",
   "execution_count": 7,
   "metadata": {},
   "outputs": [
    {
     "name": "stdout",
     "output_type": "stream",
     "text": [
      "         Unnamed: 0       JobID    GID      UID   Partition  \\\n",
      "0                14  4175808_96  41405  41660.0      normal   \n",
      "1                15  4175808_97  41405  41660.0      normal   \n",
      "2                16  4175808_98  41405  41660.0      normal   \n",
      "3                17  4175808_99  41405  41660.0      normal   \n",
      "4                18  4175810_79  41405  41660.0      normal   \n",
      "...             ...         ...    ...      ...         ...   \n",
      "2248445     2310967     6495652  50410  50776.0  gpu_shared   \n",
      "2248446     2310968     6495653  50410  50776.0  gpu_shared   \n",
      "2248447     2310969     6495654  50410  50776.0  gpu_shared   \n",
      "2248448     2310993     6495678  50911  51274.0      normal   \n",
      "2248450     2311010     6495695  50911  51274.0      normal   \n",
      "\n",
      "                      Submit                Start                  End  \\\n",
      "0        2019-12-27T20:13:31  2019-12-31T20:18:11  2020-01-01T02:53:31   \n",
      "1        2019-12-27T20:13:31  2019-12-31T20:50:00  2020-01-01T02:16:40   \n",
      "2        2019-12-27T20:13:31  2019-12-31T21:52:36  2020-01-01T04:34:50   \n",
      "3        2019-12-27T20:13:31  2019-12-31T23:38:51  2020-01-01T05:03:58   \n",
      "4        2019-12-27T20:13:31  2019-12-31T20:20:23  2020-01-01T01:16:36   \n",
      "...                      ...                  ...                  ...   \n",
      "2248445  2020-08-06T23:32:11  2020-08-06T23:49:34  2020-08-07T03:02:43   \n",
      "2248446  2020-08-06T23:32:11  2020-08-06T23:49:34  2020-08-07T05:17:18   \n",
      "2248447  2020-08-06T23:32:11  2020-08-06T23:59:13  2020-08-07T09:56:46   \n",
      "2248448  2020-08-06T23:33:40  2020-08-06T23:37:55  2020-08-06T23:55:56   \n",
      "2248450  2020-08-06T23:41:42  2020-08-06T23:46:28  2020-08-07T00:03:11   \n",
      "\n",
      "         ElapsedRaw  CPUTimeRAW  NCPUS  NNode      NodeList ExitCode  \\\n",
      "0        395.333333      379520     16      1        r26n31      0:0   \n",
      "1        326.666667      313600     16      1        r14n32      0:0   \n",
      "2        402.233333      386144     16      1         r27n8      0:0   \n",
      "3        325.116667      312112     16      1        r12n20      0:0   \n",
      "4        296.216667      284368     16      1        r13n29      0:0   \n",
      "...             ...         ...    ...    ...           ...      ...   \n",
      "2248445  193.150000       34767      3      1         r32n3      0:0   \n",
      "2248446  327.733333       58992      3      1         r32n3      0:0   \n",
      "2248447  597.550000      107559      3      1         r30n6      0:0   \n",
      "2248448   18.016667       34592     32      2  r13n9,r15n19      0:0   \n",
      "2248450   16.716667       32096     32      2   r10n[12,31]      0:0   \n",
      "\n",
      "             State   Timelimit  node_sockstat_TCP_mem  node_sockstat_UDP_mem  \n",
      "0        COMPLETED  1-00:00:00                 3163.0                 6352.0  \n",
      "1        COMPLETED  1-00:00:00                 2612.0                 5264.0  \n",
      "2        COMPLETED  1-00:00:00                 3434.0                 6436.0  \n",
      "3        COMPLETED  1-00:00:00                 2602.0                 5200.0  \n",
      "4        COMPLETED  1-00:00:00                 2380.0                 4782.0  \n",
      "...            ...         ...                    ...                    ...  \n",
      "2248445  COMPLETED  1-01:00:00                16694.0                 3154.0  \n",
      "2248446  COMPLETED  1-01:00:00                26031.0                 5314.0  \n",
      "2248447  COMPLETED  1-01:00:00                40234.0                 9580.0  \n",
      "2248448  COMPLETED    04:21:00                  600.0                  576.0  \n",
      "2248450  COMPLETED    04:21:00                  541.0                  536.0  \n",
      "\n",
      "[891272 rows x 18 columns]\n"
     ]
    }
   ],
   "source": [
    "# Exclude 0 values, since in this instance we only want to analyze jobs with traffic\n",
    "node_sockstat_UDP_mem_perjob = pd.read_csv('./cache/node_sockstat_UDP_mem_perjob.csv')  \n",
    "node_sockstat_UDP_mem_perjob = node_sockstat_UDP_mem_perjob[(node_sockstat_UDP_mem_perjob[\"node_sockstat_UDP_mem\"] > 0)]\n",
    "# Transform runtime to hours\n",
    "node_sockstat_UDP_mem_perjob[\"ElapsedRaw\"] = node_sockstat_UDP_mem_perjob[\"ElapsedRaw\"] * 60  # Back to minutes\n",
    "print(node_sockstat_UDP_mem_perjob)"
   ]
  },
  {
   "cell_type": "code",
   "execution_count": 8,
   "metadata": {},
   "outputs": [
    {
     "name": "stdout",
     "output_type": "stream",
     "text": [
      "mean_5min 673.0314142300242\n",
      "mean_1hr 14003.964082551885\n",
      "mean_6hrs 107392.76522516768\n",
      "mean_1day 484650.8459741993\n",
      "mean_1to5days 3092752.448493567\n"
     ]
    }
   ],
   "source": [
    "# Calculate averages for different time bins\n",
    "average_5min_UDP = (np.mean(node_sockstat_UDP_mem_perjob.loc[node_sockstat_UDP_mem_perjob[\"ElapsedRaw\"] < 5, \"node_sockstat_UDP_mem\"]))\n",
    "average_1hr_UDP = (np.mean(node_sockstat_UDP_mem_perjob.loc[(node_sockstat_UDP_mem_perjob[\"ElapsedRaw\"] >= 5) & (node_sockstat_UDP_mem_perjob[\"ElapsedRaw\"] < 60), \"node_sockstat_UDP_mem\"]))\n",
    "average_6hrs_UDP = (np.mean(node_sockstat_UDP_mem_perjob.loc[(node_sockstat_UDP_mem_perjob[\"ElapsedRaw\"] >= 60) & (node_sockstat_UDP_mem_perjob[\"ElapsedRaw\"] < 360), \"node_sockstat_UDP_mem\"]))\n",
    "average_1day_UDP = (np.mean(node_sockstat_UDP_mem_perjob.loc[(node_sockstat_UDP_mem_perjob[\"ElapsedRaw\"] >= 360) & (node_sockstat_UDP_mem_perjob[\"ElapsedRaw\"] < 1440), \"node_sockstat_UDP_mem\"]))\n",
    "average_1to5days_UDP = (np.mean(node_sockstat_UDP_mem_perjob.loc[(node_sockstat_UDP_mem_perjob[\"ElapsedRaw\"] >= 1440), \"node_sockstat_UDP_mem\"]))\n",
    "print(\"mean_5min\",average_5min_UDP)\n",
    "print(\"mean_1hr\",average_1hr_UDP)\n",
    "print(\"mean_6hrs\",average_6hrs_UDP)\n",
    "print(\"mean_1day\",average_1day_UDP)\n",
    "print(\"mean_1to5days\",average_1to5days_UDP)"
   ]
  },
  {
   "cell_type": "code",
   "execution_count": 9,
   "metadata": {},
   "outputs": [
    {
     "name": "stderr",
     "output_type": "stream",
     "text": [
      "<ipython-input-9-680db6a99ee0>:7: UserWarning: Attempting to set identical bottom == top == 1 results in singular transformations; automatically expanding.\n",
      "  plt.ylim(bottom=1)\n"
     ]
    },
    {
     "data": {
      "image/png": "[encoded data removed]",
      "text/plain": [
       "<Figure size 792x360 with 1 Axes>"
      ]
     },
     "metadata": {
      "needs_background": "light"
     },
     "output_type": "display_data"
    }
   ],
   "source": [
    "# Visualize results\n",
    "cat = ['<5 minutes', '<1 hour', '<6 hours', '<1 day', '1 to 5 days']\n",
    "vals = [average_5min_UDP, average_1hr_UDP, average_6hrs_UDP, average_1day_UDP, average_1to5days_UDP]\n",
    "\n",
    "fig = plt.figure(figsize=(11, 5))\n",
    "plt.yscale(\"symlog\")\n",
    "plt.ylim(bottom=1)\n",
    "plt.ylim(top=10**6.8)\n",
    "plt.locator_params(axis='y', numticks=12)\n",
    "plt.bar(cat, vals, width=1, edgecolor=\"black\", color=\"lightcoral\")\n",
    "plt.xlabel(\"Job duration - Each previous category is excluded in the next\")\n",
    "plt.ylabel(\"Mean node_sockstat_UDP_mem\")\n",
    "plt.tight_layout()\n",
    "fig.savefig(\"UDP_mem_job_duration.pdf\")"
   ]
  },
  {
   "cell_type": "code",
   "execution_count": 10,
   "metadata": {},
   "outputs": [
    {
     "name": "stdout",
     "output_type": "stream",
     "text": [
      "         Unnamed: 0       JobID    GID      UID Partition  \\\n",
      "0                14  4175808_96  41405  41660.0    normal   \n",
      "1                15  4175808_97  41405  41660.0    normal   \n",
      "2                16  4175808_98  41405  41660.0    normal   \n",
      "3                17  4175808_99  41405  41660.0    normal   \n",
      "4                18  4175810_79  41405  41660.0    normal   \n",
      "...             ...         ...    ...      ...       ...   \n",
      "1290505     1319637     5502064  48595  48921.0       gpu   \n",
      "1290506     1319638     5502065  31725  34227.0     short   \n",
      "1290507     1319639     5502066  49208  49531.0    normal   \n",
      "1290508     1319640     5502067  48595  48921.0       gpu   \n",
      "1290521     1319653     5502094  31725  34227.0     short   \n",
      "\n",
      "                      Submit                Start                  End  \\\n",
      "0        2019-12-27T20:13:31  2019-12-31T20:18:11  2020-01-01T02:53:31   \n",
      "1        2019-12-27T20:13:31  2019-12-31T20:50:00  2020-01-01T02:16:40   \n",
      "2        2019-12-27T20:13:31  2019-12-31T21:52:36  2020-01-01T04:34:50   \n",
      "3        2019-12-27T20:13:31  2019-12-31T23:38:51  2020-01-01T05:03:58   \n",
      "4        2019-12-27T20:13:31  2019-12-31T20:20:23  2020-01-01T01:16:36   \n",
      "...                      ...                  ...                  ...   \n",
      "1290505  2020-05-19T23:47:18  2020-05-19T23:47:18  2020-05-19T23:48:10   \n",
      "1290506  2020-05-19T23:47:35  2020-05-19T23:47:36  2020-05-19T23:51:16   \n",
      "1290507  2020-05-19T23:49:03  2020-05-19T23:50:21  2020-05-20T00:00:21   \n",
      "1290508  2020-05-19T23:49:41  2020-05-19T23:49:41  2020-05-20T10:07:10   \n",
      "1290521  2020-05-19T23:56:26  2020-05-19T23:56:26  2020-05-19T23:57:46   \n",
      "\n",
      "         ElapsedRaw  CPUTimeRAW  NCPUS  NNode NodeList ExitCode      State  \\\n",
      "0        395.333333      379520     16      1   r26n31      0:0  COMPLETED   \n",
      "1        326.666667      313600     16      1   r14n32      0:0  COMPLETED   \n",
      "2        402.233333      386144     16      1    r27n8      0:0  COMPLETED   \n",
      "3        325.116667      312112     16      1   r12n20      0:0  COMPLETED   \n",
      "4        296.216667      284368     16      1   r13n29      0:0  COMPLETED   \n",
      "...             ...         ...    ...    ...      ...      ...        ...   \n",
      "1290505    0.866667         624     12      1    r30n3      0:0  CANCELLED   \n",
      "1290506    3.666667        3520     16      1    r25n3      0:0  COMPLETED   \n",
      "1290507   10.000000        9600     16      1    r12n1      0:0  COMPLETED   \n",
      "1290508  617.483333      444588     12      1    r30n3      0:0  CANCELLED   \n",
      "1290521    1.333333        1280     16      1    r25n3      0:0  COMPLETED   \n",
      "\n",
      "          Timelimit  node_sockstat_TCP_mem  node_sockstat_UDP_mem  \\\n",
      "0        1-00:00:00                 3163.0                 6352.0   \n",
      "1        1-00:00:00                 2612.0                 5264.0   \n",
      "2        1-00:00:00                 3434.0                 6436.0   \n",
      "3        1-00:00:00                 2602.0                 5200.0   \n",
      "4        1-00:00:00                 2380.0                 4782.0   \n",
      "...             ...                    ...                    ...   \n",
      "1290505    20:00:00                   12.0                 2446.0   \n",
      "1290506    00:05:00                   74.0                17597.0   \n",
      "1290507    10:00:00                  374.0                 1137.0   \n",
      "1290508    20:00:00                10324.0              2320476.0   \n",
      "1290521    00:05:00                   74.0                 7182.0   \n",
      "\n",
      "         node_network_transmit_packets  \n",
      "0                         6.844855e+12  \n",
      "1                         1.399177e+13  \n",
      "2                         5.473504e+11  \n",
      "3                         1.970501e+12  \n",
      "4                         4.138128e+12  \n",
      "...                                ...  \n",
      "1290505                   5.932320e+06  \n",
      "1290506                   7.450641e+07  \n",
      "1290507                   2.166495e+06  \n",
      "1290508                   8.261807e+07  \n",
      "1290521                   2.996781e+07  \n",
      "\n",
      "[513394 rows x 19 columns]\n"
     ]
    }
   ],
   "source": [
    "# Exclude 0 values, since in this instance we only want to analyze jobs with traffic\n",
    "node_network_transmit_packets_perjob = pd.read_csv('./cache/node_network_transmit_packets_perjob.csv')  \n",
    "node_network_transmit_packets_perjob = node_network_transmit_packets_perjob[(node_network_transmit_packets_perjob[\"node_network_transmit_packets\"] > 0)]\n",
    "# Transform runtime to hours\n",
    "node_network_transmit_packets_perjob[\"ElapsedRaw\"] = node_network_transmit_packets_perjob[\"ElapsedRaw\"] * 60  # Back to minutes\n",
    "print(node_network_transmit_packets_perjob)"
   ]
  },
  {
   "cell_type": "code",
   "execution_count": 11,
   "metadata": {},
   "outputs": [
    {
     "name": "stdout",
     "output_type": "stream",
     "text": [
      "mean_5min 15400013744.566414\n",
      "mean_1hr 532543409387.8179\n",
      "mean_6hrs 3367186471092.3037\n",
      "mean_1day 16417011785666.332\n",
      "mean_1to5days 82785903601585.69\n"
     ]
    }
   ],
   "source": [
    "# Calculate averages for different time bins\n",
    "average_5min_transmit = (np.mean(node_network_transmit_packets_perjob.loc[node_network_transmit_packets_perjob[\"ElapsedRaw\"] < 5, \"node_network_transmit_packets\"]))\n",
    "average_1hr_transmit = (np.mean(node_network_transmit_packets_perjob.loc[(node_network_transmit_packets_perjob[\"ElapsedRaw\"] >= 5) & (node_network_transmit_packets_perjob[\"ElapsedRaw\"] < 60), \"node_network_transmit_packets\"]))\n",
    "average_6hrs_transmit = (np.mean(node_network_transmit_packets_perjob.loc[(node_network_transmit_packets_perjob[\"ElapsedRaw\"] >= 60) & (node_network_transmit_packets_perjob[\"ElapsedRaw\"] < 360), \"node_network_transmit_packets\"]))\n",
    "average_1day_transmit = (np.mean(node_network_transmit_packets_perjob.loc[(node_network_transmit_packets_perjob[\"ElapsedRaw\"] >= 360) & (node_network_transmit_packets_perjob[\"ElapsedRaw\"] < 1440), \"node_network_transmit_packets\"]))\n",
    "average_1to5days_transmit = (np.mean(node_network_transmit_packets_perjob.loc[(node_network_transmit_packets_perjob[\"ElapsedRaw\"] >= 1440), \"node_network_transmit_packets\"]))\n",
    "print(\"mean_5min\",average_5min_transmit)\n",
    "print(\"mean_1hr\",average_1hr_transmit)\n",
    "print(\"mean_6hrs\",average_6hrs_transmit)\n",
    "print(\"mean_1day\",average_1day_transmit)\n",
    "print(\"mean_1to5days\",average_1to5days_transmit)"
   ]
  },
  {
   "cell_type": "code",
   "execution_count": 12,
   "metadata": {},
   "outputs": [
    {
     "name": "stderr",
     "output_type": "stream",
     "text": [
      "<ipython-input-12-56e58ad3f512>:7: UserWarning: Attempting to set identical bottom == top == 1 results in singular transformations; automatically expanding.\n",
      "  plt.ylim(bottom=1)\n"
     ]
    },
    {
     "data": {
      "image/png": "[encoded data removed]",
      "text/plain": [
       "<Figure size 792x360 with 1 Axes>"
      ]
     },
     "metadata": {
      "needs_background": "light"
     },
     "output_type": "display_data"
    }
   ],
   "source": [
    "# Visualize results\n",
    "cat = ['<5 minutes', '<1 hour', '<6 hours', '<1 day', '1 to 5 days']\n",
    "vals = [average_5min_transmit, average_1hr_transmit, average_6hrs_transmit, average_1day_transmit, average_1to5days_transmit]\n",
    "\n",
    "fig = plt.figure(figsize=(11, 5))\n",
    "plt.yscale(\"symlog\")\n",
    "plt.ylim(bottom=1)\n",
    "plt.ylim(top=10**14.2)\n",
    "plt.locator_params(axis='y', numticks=12)\n",
    "plt.bar(cat, vals, width=1, edgecolor=\"black\", color=\"lightcoral\")\n",
    "plt.xlabel(\"Job duration - Each previous category is excluded in the next\")\n",
    "plt.ylabel(\"Mean transmitted packets\")\n",
    "plt.tight_layout()\n",
    "fig.savefig(\"node_network_transmit_packets_job_duration.pdf\")"
   ]
  },
  {
   "cell_type": "code",
   "execution_count": 19,
   "metadata": {},
   "outputs": [
    {
     "data": {
      "image/png": "[encoded data removed]",
      "text/plain": [
       "<Figure size 792x360 with 1 Axes>"
      ]
     },
     "metadata": {
      "needs_background": "light"
     },
     "output_type": "display_data"
    }
   ],
   "source": [
    "# Generate scatterplot\n",
    "plot_df = node_network_transmit_packets_perjob.copy()\n",
    "plot_df[\"ElapsedRaw\"] /= 60\n",
    "fig, ax = plt.subplots(figsize=(11, 5))\n",
    "#ax.scatter(node_network_transmit_packets_perjob[\"ElapsedRaw\"],\n",
    "#            node_network_transmit_packets_perjob[\"node_network_transmit_packets\"], marker='o', color=\"lightcoral\")\n",
    "sns.regplot(x=\"ElapsedRaw\", y=\"node_network_transmit_packets\", \n",
    "            data=plot_df, \n",
    "            scatter=True,\n",
    "            fit_reg=True,\n",
    "            ax=ax,\n",
    "            marker='o',\n",
    "            color=\"lightcoral\",\n",
    "            line_kws={\"color\": \"steelblue\"},\n",
    "            scatter_kws={\"rasterized\": True})\n",
    "ax.set_xlabel(\"Job Duration [Hour]\", fontsize=18)\n",
    "ax.set_ylabel(\"Transmitted Packets\", fontsize=18)\n",
    "ax.tick_params(axis='both', which='major', labelsize=14)\n",
    "ax.tick_params(axis='both', which='minor', labelsize=14)\n",
    "#ax.get_xaxis().get_offset_text().set_size(14)\n",
    "ax.get_yaxis().get_offset_text().set_size(12)\n",
    "fig.tight_layout()\n",
    "\n",
    "date_time = datetime.now().strftime(\"%Y-%m-%d-%H-%M-%S\")\n",
    "fig.savefig(f\"node_network_transmit_packets_job_scatter_{date_time}.pdf\")\n",
    "del plot_df"
   ]
  },
  {
   "cell_type": "code",
   "execution_count": null,
   "metadata": {},
   "outputs": [],
   "source": []
  }
 ],
 "metadata": {
  "kernelspec": {
   "display_name": "Python 3",
   "language": "python",
   "name": "python3"
  },
  "language_info": {
   "codemirror_mode": {
    "name": "ipython",
    "version": 3
   },
   "file_extension": ".py",
   "mimetype": "text/x-python",
   "name": "python",
   "nbconvert_exporter": "python",
   "pygments_lexer": "ipython3",
   "version": "3.7.4"
  }
 },
 "nbformat": 4,
 "nbformat_minor": 4
}
