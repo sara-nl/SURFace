{
 "cells": [
  {
   "cell_type": "code",
   "execution_count": null,
   "metadata": {},
   "outputs": [],
   "source": [
    "# Required packages for processing\n",
    "import pandas as pd\n",
    "import numpy as np\n",
    "import pytz, time\n",
    "import matplotlib.pyplot as plt\n",
    "\n",
    "%matplotlib inline"
   ]
  },
  {
   "cell_type": "code",
   "execution_count": null,
   "metadata": {},
   "outputs": [],
   "source": [
    "def preprocess_parquet_to_df(name):\n",
    "    df = pd.read_parquet(name)\n",
    "    df = df.replace(-1, 0)\n",
    "    df = df.fillna(0)\n",
    "    df[\"dt\"] = pd.to_datetime(df.index, utc=True, unit=\"s\")\n",
    "    df[\"dt\"] = df[\"dt\"].dt.tz_convert(pytz.timezone('Europe/Amsterdam')).dt.tz_localize(None)\n",
    "    df = df.set_index(\"dt\")\n",
    "    df = df.sort_index()\n",
    "    df['Total']= df.sum(axis=1)\n",
    "    return(df)\n",
    "\n",
    "def preprocess_jobdata_to_df(name):\n",
    "    with open(name,'r') as file:\n",
    "        filedata = file.read()\n",
    "        filedata = filedata.replace('None assigned','NoneAssigned')\n",
    "    with open(str('processed_'+name),'w') as file:\n",
    "        file.write(filedata)\n",
    "    jobdata = pd.read_fwf(str('processed_'+name), delimiter=r\"\\s+\", header=None)#, low_memory=False)\n",
    "    jobdata = jobdata.apply(lambda x: x.str.strip() if x.dtype == \"object\" else x)\n",
    "    jobdata = jobdata.rename(columns=jobdata.iloc[0]).drop(jobdata.index[0])\n",
    "    jobdata = jobdata.iloc[1:]\n",
    "    jobdata = jobdata.astype({\"ElapsedRaw\": int, \"CPUTimeRAW\": int, \"NCPUS\": int})\n",
    "    return(jobdata)\n",
    "\n",
    "def calculate_perjob(jobdata,data_type,name):\n",
    "    output = jobdata\n",
    "    output[name] = \"\"\n",
    "    # Make sure that date ranges for both sources are equal\n",
    "    #output = output[(output[\"Start\"] >= data_type.index[0]) & (output[\"Start\"] <= data_type.index[-1])]\n",
    "    # Iterate over rows, select relevant info for processing\n",
    "    for index, row in output.iterrows():\n",
    "        #print(index)\n",
    "        start = row[\"Start\"]\n",
    "        end = row[\"End\"]\n",
    "        nodes = row[\"NodeList\"]\n",
    "        selection = data_type.loc[start:end]\n",
    "        # Check if job is executed on only one node\n",
    "        if nodes in selection.columns:\n",
    "            selection = selection[nodes]\n",
    "            total = selection.sum()\n",
    "            print(total)\n",
    "            output.loc[index,name] = total\n",
    "        # Process node list containing multiple nodes, based on Kristians' code\n",
    "        # To do: check for [, split list on comma, check for -, range first digit to second digit\n",
    "        if \",\" in nodes:\n",
    "            closeBracket = 0\n",
    "            openBracket = nodes.find('[', closeBracket)\n",
    "            if(openBracket == -1):\n",
    "                splitnodes = nodes.split(',')\n",
    "            nodeList = list()\n",
    "            while(openBracket > -1):\n",
    "                closeBracket = nodes.find(']', openBracket)\n",
    "                rack = nodes[openBracket - 4:openBracket]\n",
    "                temp = nodes[openBracket + 1:closeBracket]\n",
    "                temp = temp.split(',')\n",
    "                for item in temp:\n",
    "                    dash = item.find('-')\n",
    "                    if(dash > -1):\n",
    "                        first = int(item.split('-')[0])\n",
    "                        last = int(item.split('-')[1])\n",
    "                        tempList = list(range(first,last+1))\n",
    "                        for value in tempList:\n",
    "                            nodeList.append(rack + str(value))\n",
    "                    else:\n",
    "                        nodeList.append(rack + item)\n",
    "                nodes = nodes[:openBracket - 4] + ','.join(nodeList) + nodes[closeBracket+1:]\n",
    "                nodeList.clear()\n",
    "                openBracket = nodes.find('[', closeBracket)\n",
    "            # Generate list of individual nodes in job\n",
    "            splitnodes = nodes.split(',')\n",
    "            totallist = []\n",
    "            # Cycle through list, calculate metric for each node and sum them together\n",
    "            for node in splitnodes:\n",
    "                try:\n",
    "                    selection = selection[node]\n",
    "                    totallist.append(selection.sum())\n",
    "                except KeyError:\n",
    "                    pass\n",
    "            total = sum(totallist)\n",
    "            print(total)\n",
    "            output.loc[index,name] = total\n",
    "    return(output)"
   ]
  },
  {
   "cell_type": "code",
   "execution_count": null,
   "metadata": {},
   "outputs": [],
   "source": [
    "# Load and preprocess data\n",
    "node_sockstat_TCP_mem = preprocess_parquet_to_df(\"node_sockstat_TCP_mem\")\n",
    "node_sockstat_UDP_mem = preprocess_parquet_to_df(\"node_sockstat_UDP_mem\")\n",
    "node_network_transmit_packets = preprocess_parquet_to_df(\"node_network_transmit_packets\")\n",
    "jobdata = preprocess_jobdata_to_df(\"jobdata.csv\")"
   ]
  },
  {
   "cell_type": "code",
   "execution_count": null,
   "metadata": {},
   "outputs": [],
   "source": [
    "print(node_sockstat_TCP_mem)"
   ]
  },
  {
   "cell_type": "code",
   "execution_count": null,
   "metadata": {},
   "outputs": [],
   "source": [
    "# Check if preprocessing was executed as expected\n",
    "filtered_jobdata = jobdata[(jobdata[\"Start\"] >= '2020-01-01 00:00:00') & (jobdata[\"Start\"] <= '2020-08-05 00:00:00')]\n",
    "filtered_jobdata = filtered_jobdata[(~filtered_jobdata[\"NodeList\"].str.contains(\"None\")) & (~filtered_jobdata[\"NodeList\"].str.contains(\"software\")) & (~filtered_jobdata[\"NodeList\"].str.contains(\"login\"))]\n",
    "filtered_jobdata[\"ElapsedRaw\"] = filtered_jobdata[\"ElapsedRaw\"].apply(lambda x: (x / 60) / 60)\n",
    "print(filtered_jobdata)"
   ]
  },
  {
   "cell_type": "code",
   "execution_count": null,
   "metadata": {},
   "outputs": [],
   "source": [
    "filtered_jobdata.to_pickle(\"filtered_jobdata.pkl\")"
   ]
  },
  {
   "cell_type": "code",
   "execution_count": null,
   "metadata": {},
   "outputs": [],
   "source": [
    "# Start calculating metrics for all used nodes per job, save the output\n",
    "node_sockstat_TCP_mem_perjob = calculate_perjob(jobdata,node_sockstat_TCP_mem,\"node_sockstat_TCP_mem\")\n",
    "node_sockstat_TCP_mem_perjob.to_csv('node_sockstat_TCP_mem_perjob.csv')"
   ]
  },
  {
   "cell_type": "code",
   "execution_count": null,
   "metadata": {},
   "outputs": [],
   "source": [
    "node_sockstat_UDP_mem_perjob = calculate_perjob(jobdata,node_sockstat_UDP_mem,\"node_sockstat_UDP_mem\")\n",
    "node_sockstat_UDP_mem_perjob.to_csv('node_sockstat_UDP_mem_perjob.csv')"
   ]
  },
  {
   "cell_type": "code",
   "execution_count": null,
   "metadata": {},
   "outputs": [],
   "source": [
    "node_network_transmit_packets_perjob = calculate_perjob(jobdata,node_network_transmit_packets,\"node_network_transmit_packets\")\n",
    "node_network_transmit_packets_perjob.to_csv('node_network_transmit_packets_perjob.csv')"
   ]
  },
  {
   "cell_type": "code",
   "execution_count": null,
   "metadata": {},
   "outputs": [],
   "source": [
    "# Exclude 0 values, since in this instance we only want to analyze jobs with traffic\n",
    "node_sockstat_TCP_mem_perjob = pd.read_csv('node_sockstat_TCP_mem_perjob.csv')  \n",
    "node_sockstat_TCP_mem_perjob = node_sockstat_TCP_mem_perjob[(node_sockstat_TCP_mem_perjob[\"node_sockstat_TCP_mem\"] > 0)]\n",
    "# Transform runtime to hours\n",
    "node_sockstat_TCP_mem_perjob[\"ElapsedRaw\"] = node_sockstat_TCP_mem_perjob[\"ElapsedRaw\"].apply(lambda x: x / 60 )\n",
    "print(node_sockstat_TCP_mem_perjob)"
   ]
  },
  {
   "cell_type": "code",
   "execution_count": null,
   "metadata": {},
   "outputs": [],
   "source": [
    "# Calculate averages for different time bins\n",
    "average_5min_TCP = (np.mean(node_sockstat_TCP_mem_perjob.loc[node_sockstat_TCP_mem_perjob[\"ElapsedRaw\"] < 5, \"node_sockstat_TCP_mem\"]))\n",
    "average_1hr_TCP = (np.mean(node_sockstat_TCP_mem_perjob.loc[(node_sockstat_TCP_mem_perjob[\"ElapsedRaw\"] >= 5) & (node_sockstat_TCP_mem_perjob[\"ElapsedRaw\"] < 60), \"node_sockstat_TCP_mem\"]))\n",
    "average_6hrs_TCP = (np.mean(node_sockstat_TCP_mem_perjob.loc[(node_sockstat_TCP_mem_perjob[\"ElapsedRaw\"] >= 60) & (node_sockstat_TCP_mem_perjob[\"ElapsedRaw\"] < 360), \"node_sockstat_TCP_mem\"]))\n",
    "average_1day_TCP = (np.mean(node_sockstat_TCP_mem_perjob.loc[(node_sockstat_TCP_mem_perjob[\"ElapsedRaw\"] >= 360) & (node_sockstat_TCP_mem_perjob[\"ElapsedRaw\"] < 1440), \"node_sockstat_TCP_mem\"]))\n",
    "average_1to5days_TCP = (np.mean(node_sockstat_TCP_mem_perjob.loc[(node_sockstat_TCP_mem_perjob[\"ElapsedRaw\"] >= 1440), \"node_sockstat_TCP_mem\"]))\n",
    "print(\"mean_5min\",average_5min_TCP)\n",
    "print(\"mean_1hr\",average_1hr_TCP)\n",
    "print(\"mean_6hrs\",average_6hrs_TCP)\n",
    "print(\"mean_1day\",average_1day_TCP)\n",
    "print(\"mean_1to5days\",average_1to5days_TCP)"
   ]
  },
  {
   "cell_type": "code",
   "execution_count": null,
   "metadata": {},
   "outputs": [],
   "source": [
    "# Visualize results\n",
    "cat = ['<5 minutes', '<1 hour', '<6 hours', '<1 day', '1 to 5 days']\n",
    "vals = [average_5min_TCP, average_1hr_TCP, average_6hrs_TCP, average_1day_TCP, average_1to5days_TCP]\n",
    "\n",
    "fig = plt.figure()\n",
    "plt.yscale(\"symlog\")\n",
    "plt.ylim(bottom=1)\n",
    "plt.ylim(top=10**5.8)\n",
    "plt.locator_params(axis='y', numticks=12)\n",
    "plt.bar(cat, vals, width=1, edgecolor=\"black\")\n",
    "plt.xlabel(\"Job duration - Each previous category is excluded in the next\")\n",
    "plt.ylabel(\"Mean node_sockstat_TCP_mem\")\n",
    "plt.tight_layout()\n",
    "fig.savefig(\"TCP_mem_job_duration.pdf\")"
   ]
  },
  {
   "cell_type": "code",
   "execution_count": null,
   "metadata": {},
   "outputs": [],
   "source": [
    "# Exclude 0 values, since in this instance we only want to analyze jobs with traffic\n",
    "node_sockstat_UDP_mem_perjob = pd.read_csv('node_sockstat_UDP_mem_perjob.csv')  \n",
    "node_sockstat_UDP_mem_perjob = node_sockstat_UDP_mem_perjob[(node_sockstat_UDP_mem_perjob[\"node_sockstat_UDP_mem\"] > 0)]\n",
    "# Transform runtime to hours\n",
    "node_sockstat_UDP_mem_perjob[\"ElapsedRaw\"] = node_sockstat_UDP_mem_perjob[\"ElapsedRaw\"].apply(lambda x: x / 60 )\n",
    "print(node_sockstat_UDP_mem_perjob)"
   ]
  },
  {
   "cell_type": "code",
   "execution_count": null,
   "metadata": {},
   "outputs": [],
   "source": [
    "# Calculate averages for different time bins\n",
    "average_5min_UDP = (np.mean(node_sockstat_UDP_mem_perjob.loc[node_sockstat_UDP_mem_perjob[\"ElapsedRaw\"] < 5, \"node_sockstat_UDP_mem\"]))\n",
    "average_1hr_UDP = (np.mean(node_sockstat_UDP_mem_perjob.loc[(node_sockstat_UDP_mem_perjob[\"ElapsedRaw\"] >= 5) & (node_sockstat_UDP_mem_perjob[\"ElapsedRaw\"] < 60), \"node_sockstat_UDP_mem\"]))\n",
    "average_6hrs_UDP = (np.mean(node_sockstat_UDP_mem_perjob.loc[(node_sockstat_UDP_mem_perjob[\"ElapsedRaw\"] >= 60) & (node_sockstat_UDP_mem_perjob[\"ElapsedRaw\"] < 360), \"node_sockstat_UDP_mem\"]))\n",
    "average_1day_UDP = (np.mean(node_sockstat_UDP_mem_perjob.loc[(node_sockstat_UDP_mem_perjob[\"ElapsedRaw\"] >= 360) & (node_sockstat_UDP_mem_perjob[\"ElapsedRaw\"] < 1440), \"node_sockstat_UDP_mem\"]))\n",
    "average_1to5days_UDP = (np.mean(node_sockstat_UDP_mem_perjob.loc[(node_sockstat_UDP_mem_perjob[\"ElapsedRaw\"] >= 1440), \"node_sockstat_UDP_mem\"]))\n",
    "print(\"mean_5min\",average_5min_UDP)\n",
    "print(\"mean_1hr\",average_1hr_UDP)\n",
    "print(\"mean_6hrs\",average_6hrs_UDP)\n",
    "print(\"mean_1day\",average_1day_UDP)\n",
    "print(\"mean_1to5days\",average_1to5days_UDP)"
   ]
  },
  {
   "cell_type": "code",
   "execution_count": null,
   "metadata": {},
   "outputs": [],
   "source": [
    "# Visualize results\n",
    "cat = ['<5 minutes', '<1 hour', '<6 hours', '<1 day', '1 to 5 days']\n",
    "vals = [average_5min_UDP, average_1hr_UDP, average_6hrs_UDP, average_1day_UDP, average_1to5days_UDP]\n",
    "\n",
    "fig = plt.figure()\n",
    "plt.yscale(\"symlog\")\n",
    "plt.ylim(bottom=1)\n",
    "plt.ylim(top=10**5.2)\n",
    "plt.locator_params(axis='y', numticks=12)\n",
    "plt.bar(cat, vals, width=1, edgecolor=\"black\")\n",
    "plt.xlabel(\"Job duration - Each previous category is excluded in the next\")\n",
    "plt.ylabel(\"Mean node_sockstat_UDP_mem\")\n",
    "plt.tight_layout()\n",
    "fig.savefig(\"UDP_mem_job_duration.pdf\")"
   ]
  },
  {
   "cell_type": "code",
   "execution_count": null,
   "metadata": {},
   "outputs": [],
   "source": [
    "# Exclude 0 values, since in this instance we only want to analyze jobs with traffic\n",
    "node_network_transmit_packets_perjob = pd.read_csv('node_network_transmit_packets_perjob.csv')  \n",
    "node_network_transmit_packets_perjob = node_network_transmit_packets_perjob[(node_network_transmit_packets_perjob[\"node_network_transmit_packets\"] > 0)]\n",
    "# Transform runtime to hours\n",
    "node_network_transmit_packets_perjob[\"elapsedraw\"] = node_network_transmit_packets_perjob[\"elapsedraw\"].apply(lambda x: x / 60 )\n",
    "print(node_network_transmit_packets_perjob)"
   ]
  },
  {
   "cell_type": "code",
   "execution_count": null,
   "metadata": {},
   "outputs": [],
   "source": [
    "# Calculate averages for different time bins\n",
    "average_5min_transmit = (np.mean(node_network_transmit_packets_perjob.loc[node_network_transmit_packets_perjob[\"ElapsedRaw\"] < 5, \"node_network_transmit_packets\"]))\n",
    "average_1hr_transmit = (np.mean(node_network_transmit_packets_perjob.loc[(node_network_transmit_packets_perjob[\"ElapsedRaw\"] >= 5) & (node_network_transmit_packets_perjob[\"ElapsedRaw\"] < 60), \"node_network_transmit_packets\"]))\n",
    "average_6hrs_transmit = (np.mean(node_network_transmit_packets_perjob.loc[(node_network_transmit_packets_perjob[\"ElapsedRaw\"] >= 60) & (node_network_transmit_packets_perjob[\"ElapsedRaw\"] < 360), \"node_network_transmit_packets\"]))\n",
    "average_1day_transmit = (np.mean(node_network_transmit_packets_perjob.loc[(node_network_transmit_packets_perjob[\"ElapsedRaw\"] >= 360) & (node_network_transmit_packets_perjob[\"ElapsedRaw\"] < 1440), \"node_network_transmit_packets\"]))\n",
    "average_1to5days_transmit = (np.mean(node_network_transmit_packets_perjob.loc[(node_network_transmit_packets_perjob[\"ElapsedRaw\"] >= 1440), \"node_network_transmit_packets\"]))\n",
    "print(\"mean_5min\",average_5min_transmit)\n",
    "print(\"mean_1hr\",average_1hr_transmit)\n",
    "print(\"mean_6hrs\",average_6hrs_transmit)\n",
    "print(\"mean_1day\",average_1day_transmit)\n",
    "print(\"mean_1to5days\",average_1to5days_transmit)"
   ]
  },
  {
   "cell_type": "code",
   "execution_count": null,
   "metadata": {},
   "outputs": [],
   "source": [
    "# Visualize results\n",
    "cat = ['<5 minutes', '<1 hour', '<6 hours', '<1 day', '1 to 5 days']\n",
    "vals = [average_5min_transmit, average_1hr_transmit, average_6hrs_transmit, average_1day_transmit, average_1to5days_transmit]\n",
    "\n",
    "fig = plt.figure()\n",
    "plt.yscale(\"symlog\")\n",
    "plt.ylim(bottom=1)\n",
    "plt.ylim(top=10**13.5)\n",
    "plt.locator_params(axis='y', numticks=12)\n",
    "plt.bar(cat, vals, width=1, edgecolor=\"black\")\n",
    "plt.xlabel(\"Job duration - Each previous category is excluded in the next\")\n",
    "plt.ylabel(\"Mean transmitted packets\")\n",
    "plt.tight_layout()\n",
    "fig.savefig(\"node_network_transmit_packets_job_duration.pdf\")"
   ]
  },
  {
   "cell_type": "code",
   "execution_count": null,
   "metadata": {},
   "outputs": [],
   "source": [
    "# Generate scatterplot\n",
    "fig = plt.figure()\n",
    "plt.scatter((node_network_transmit_packets_perjob[\"ElapsedRaw\"] / 60),\n",
    "            node_network_transmit_packets_perjob[\"node_network_transmit_packets\"], marker='o')\n",
    "plt.xlabel(\"Job duration in hours\")\n",
    "plt.ylabel(\"Transmitted packets\")\n",
    "plt.tight_layout()\n",
    "fig.savefig(\"node_network_transmit_packets_job_scatter.pdf\")"
   ]
  },
  {
   "cell_type": "code",
   "execution_count": null,
   "metadata": {},
   "outputs": [],
   "source": []
  }
 ],
 "metadata": {
  "kernelspec": {
   "display_name": "Python 3",
   "language": "python",
   "name": "python3"
  },
  "language_info": {
   "codemirror_mode": {
    "name": "ipython",
    "version": 3
   },
   "file_extension": ".py",
   "mimetype": "text/x-python",
   "name": "python",
   "nbconvert_exporter": "python",
   "pygments_lexer": "ipython3",
   "version": "3.7.4"
  }
 },
 "nbformat": 4,
 "nbformat_minor": 2
}
