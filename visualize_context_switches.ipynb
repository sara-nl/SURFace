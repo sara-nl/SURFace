{
 "cells": [
  {
   "cell_type": "code",
   "execution_count": 1,
   "id": "43242b54-7b4c-45e2-9f6c-cd4e154ccdad",
   "metadata": {},
   "outputs": [],
   "source": [
    "import os\n",
    "from distutils.dir_util import copy_tree\n",
    "import itertools\n",
    "import scipy\n",
    "from scipy import stats\n",
    "import pandas as pd\n",
    "import numpy as np\n",
    "import random\n",
    "from datetime import datetime\n",
    "import matplotlib.pyplot as plt\n",
    "import seaborn as sns\n",
    "import pytz\n",
    "from matplotlib.ticker import MultipleLocator, FixedLocator, LogLocator, NullFormatter, ScalarFormatter\n"
   ]
  },
  {
   "cell_type": "code",
   "execution_count": 2,
   "id": "fb0079c7-3b34-432d-8611-954726cc2ea5",
   "metadata": {},
   "outputs": [],
   "source": [
    "gpu_nodes = {\n",
    "    \"r28n1\", \"r28n2\", \"r28n3\", \"r28n4\", \"r28n5\",\n",
    "    \"r29n1\", \"r29n2\", \"r29n3\", \"r29n4\", \"r29n5\",\n",
    "    \"r30n1\", \"r30n2\", \"r30n3\", \"r30n4\", \"r30n5\", \"r30n6\", \"r30n7\",\n",
    "    \"r31n1\", \"r31n2\", \"r31n3\", \"r31n4\", \"r31n5\", \"r31n6\"\n",
    "    \"r32n1\", \"r32n2\", \"r32n3\", \"r32n4\", \"r32n5\", \"r32n6\", \"r32n7\",\n",
    "    \"r33n2\", \"r33n3\", \"r33n5\", \"r33n6\",\n",
    "    \"r34n1\", \"r34n2\", \"r34n3\", \"r34n4\", \"r34n5\", \"r34n6\", \"r34n7\",\n",
    "    \"r35n1\", \"r35n2\", \"r35n3\", \"r35n4\", \"r35n5\",\n",
    "    \"r36n1\", \"r36n2\", \"r36n3\", \"r36n4\", \"r36n5\",\n",
    "    \"r38n1\", \"r38n2\", \"r38n3\", \"r38n4\", \"r38n5\",\n",
    "}"
   ]
  },
  {
   "cell_type": "code",
   "execution_count": 3,
   "id": "294d2b24-d21c-4e28-b094-b3cbf0c24620",
   "metadata": {},
   "outputs": [],
   "source": [
    "df = pd.read_parquet(\"Q:/Downloads/surf-lisa-machine-data-2019-12-29-23-00-00-2020-08-07-21-59-45.tar/surf-lisa-machine-data-2019-12-29-23-00-00-2020-08-07-21-59-45/processed-surf-dataset/node_context_switches_total\")"
   ]
  },
  {
   "cell_type": "code",
   "execution_count": 4,
   "id": "49cccc4e-77b4-4dd6-9aa0-4218d061f94b",
   "metadata": {},
   "outputs": [],
   "source": [
    "# We noticed some negative numbers in what should be a cumulative number (see https://docs.splunk.com/observability/gdi/prometheus-node/prometheus-node.html)\n",
    "# We assume these might be node reboots or other events that reset the counter, and thus clip the results to 0.\n",
    "# We assume positive changes are valid.\n",
    "df = df.dropna().diff().clip(lower=0)"
   ]
  },
  {
   "cell_type": "code",
   "execution_count": 5,
   "id": "ba90c8b5-4e6f-429c-aec5-8dda79c100ff",
   "metadata": {},
   "outputs": [],
   "source": [
    "visualize_top = 15\n",
    "top_nodes = df.max().sort_values().index[-visualize_top:]"
   ]
  },
  {
   "cell_type": "code",
   "execution_count": 8,
   "id": "e1543dc6-7503-4e64-87ae-58eaa4c8a287",
   "metadata": {},
   "outputs": [],
   "source": [
    "def make_plot(ax, series):\n",
    "    ax.plot(series, color=\"lightcoral\")\n",
    "    ax.get_yaxis().set_major_formatter(ScalarFormatter(useMathText=True)) \n",
    "    ax.yaxis.get_offset_text().set_visible(False)\n",
    "    \n",
    "    def get_converted_xticks(ax):\n",
    "        \"\"\"\n",
    "        :param ax:\n",
    "        :return list of day and month strings\n",
    "        \"\"\"\n",
    "        return [pd.to_datetime(int(tick.get_text()), utc=True, unit=\"s\").strftime(\"%d\\n%b\") for tick in ax.get_xticklabels()]\n",
    "    \n",
    "    ax.get_xaxis().set_major_formatter(ScalarFormatter(useMathText=False)) \n",
    "    ax.ticklabel_format(axis='x', style='plain')\n",
    "    ax.xaxis.get_offset_text().set_visible(False)\n",
    "    \n",
    "    fig.tight_layout()\n",
    "    # This call needs to be after the tight_layout call so that the labels have been set!\n",
    "    ax.set_xticklabels(get_converted_xticks(ax))"
   ]
  },
  {
   "cell_type": "code",
   "execution_count": 6,
   "id": "60e0ccab-e327-4fd5-af0c-ce00efc8776c",
   "metadata": {},
   "outputs": [],
   "source": [
    "plot_df = df\n",
    "plot_df[\"dt\"] = pd.to_datetime(plot_df.index, utc=True, unit=\"s\")"
   ]
  },
  {
   "cell_type": "code",
   "execution_count": 13,
   "id": "1709a443-dcd6-4a66-a03f-adb78ec80100",
   "metadata": {},
   "outputs": [
    {
     "name": "stderr",
     "output_type": "stream",
     "text": [
      "C:\\Users\\laurens\\AppData\\Local\\Temp/ipykernel_12788/3758762637.py:19: UserWarning: FixedFormatter should only be used together with FixedLocator\n",
      "  ax.set_xticklabels(get_converted_xticks(ax))\n"
     ]
    },
    {
     "data": {
      "image/png": "[encoded data removed]",
      "text/plain": [
       "<Figure size 792x360 with 12 Axes>"
      ]
     },
     "metadata": {
      "needs_background": "light"
     },
     "output_type": "display_data"
    }
   ],
   "source": [
    "rows = 3\n",
    "cols = 4\n",
    "fig, axes = plt.subplots(nrows=rows, ncols=cols, sharex=True, sharey=True, figsize=(11, 5))\n",
    "\n",
    "for row in range(rows):\n",
    "    for col in range(cols):\n",
    "        ax = axes[row, col]\n",
    "        node = top_nodes[row*cols + col]\n",
    "        make_plot(ax, plot_df[node])\n",
    "        ax.set_title(node)\n",
    "\n",
    "fig.tight_layout()\n",
    "\n",
    "fig.supxlabel('Date', fontsize=18)\n",
    "fig.supylabel(\"Context Switches ({})\".format(axes[0, 0].get_yaxis().get_major_formatter().get_offset()), fontsize=18)\n",
    "fig.tight_layout()\n",
    "date_time = datetime.now().strftime(\"%Y-%m-%d-%H-%M-%S\")\n",
    "fig.savefig(f\"output/context_switches_top_{rows*cols}_nodes_{date_time}.pdf\", bbox_inches='tight')"
   ]
  },
  {
   "cell_type": "code",
   "execution_count": 23,
   "id": "0b740fbb-7032-4fee-8d99-8b9154ab3235",
   "metadata": {},
   "outputs": [
    {
     "data": {
      "text/plain": [
       "r34n1     1590508155\n",
       "r14n3     1591262055\n",
       "r11n3     1591262055\n",
       "r13n13    1591262055\n",
       "r27n22    1591262055\n",
       "r12n29    1591262055\n",
       "r10n20    1591262055\n",
       "r26n11    1591262055\n",
       "r26n13    1591262055\n",
       "r12n18    1591262055\n",
       "r12n32    1596664800\n",
       "r12n19    1596664800\n",
       "dtype: int64"
      ]
     },
     "execution_count": 23,
     "metadata": {},
     "output_type": "execute_result"
    }
   ],
   "source": [
    "plot_df[top_nodes[:12]].idxmax().sort_values()"
   ]
  }
 ],
 "metadata": {
  "kernelspec": {
   "display_name": "Python 3 (ipykernel)",
   "language": "python",
   "name": "python3"
  },
  "language_info": {
   "codemirror_mode": {
    "name": "ipython",
    "version": 3
   },
   "file_extension": ".py",
   "mimetype": "text/x-python",
   "name": "python",
   "nbconvert_exporter": "python",
   "pygments_lexer": "ipython3",
   "version": "3.10.0"
  }
 },
 "nbformat": 4,
 "nbformat_minor": 5
}
