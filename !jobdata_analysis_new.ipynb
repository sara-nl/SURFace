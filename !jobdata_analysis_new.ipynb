{
 "cells": [
  {
   "cell_type": "code",
   "execution_count": 18,
   "metadata": {},
   "outputs": [],
   "source": [
    "# Collected job data from Lisa using the following command:\n",
    "# sacct -a --starttime 2020-01-01 --format=jobid,gid,uid,partition,submit,start,end,elapsedraw,cputimeraw,ncpus,nnodes,nodelist,exitcode,state,timelimit > $HOME/jobdata.csv\n",
    "\n",
    "# Required packages for processing\n",
    "import os\n",
    "import numpy as np\n",
    "import pandas as pd\n",
    "import matplotlib.pyplot as plt\n",
    "import time, datetime, pytz\n",
    "from matplotlib.ticker import MultipleLocator, FixedLocator, LogLocator, NullFormatter\n",
    "from datetime import date, datetime, time\n",
    "\n",
    "%matplotlib inline"
   ]
  },
  {
   "cell_type": "code",
   "execution_count": 5,
   "metadata": {},
   "outputs": [],
   "source": [
    "# Required preprocessing/parsing of the job data\n",
    "def preprocess_jobdata_to_df(name):\n",
    "    with open(os.path.join(location_job_data_csv, name),'r') as file:\n",
    "        filedata = file.read()\n",
    "        filedata = filedata.replace('None assigned','NoneAssigned')\n",
    "    with open(os.path.join(location_job_data_csv, str('processed_'+name)),'w') as file:\n",
    "        file.write(filedata)\n",
    "    jobdata = pd.read_fwf(os.path.join(location_job_data_csv, str('processed_'+name)), delimiter=r\"\\s+\", header=None)#, low_memory=False)\n",
    "    jobdata = jobdata.apply(lambda x: x.str.strip() if x.dtype == \"object\" else x)\n",
    "    jobdata = jobdata.rename(columns=jobdata.iloc[0]).drop(jobdata.index[0])\n",
    "    jobdata = jobdata.iloc[1:]\n",
    "    jobdata = jobdata.astype({\"ElapsedRaw\": int, \"CPUTimeRAW\": int, \"NCPUS\": int})\n",
    "    return(jobdata)\n"
   ]
  },
  {
   "cell_type": "code",
   "execution_count": 8,
   "metadata": {},
   "outputs": [
    {
     "name": "stdout",
     "output_type": "stream",
     "text": [
      "               JobID    GID    UID  Partition               Submit  \\\n",
      "2            4174135  49909  50279     normal  2019-12-27T09:09:30   \n",
      "3            4174136  49909  50279     normal  2019-12-27T09:09:41   \n",
      "4            4174921  49909  50279     normal  2019-12-27T12:13:55   \n",
      "5            4174923  49909  50279     normal  2019-12-27T12:14:00   \n",
      "6         4175534_16  49826  50196     normal  2019-12-27T14:52:15   \n",
      "...              ...    ...    ...        ...                  ...   \n",
      "3198112  6992601.bat                           2020-12-03T08:53:17   \n",
      "3198113  6992601.ext                           2020-12-03T08:53:17   \n",
      "3198114      6992602  49208  49531     normal  2020-12-03T08:53:42   \n",
      "3198115      6992603  49206  49529  gpu_titan  2020-12-03T08:54:57   \n",
      "3198116  6992603.ext                           2020-12-03T08:55:03   \n",
      "\n",
      "                       Start                  End  ElapsedRaw  CPUTimeRAW  \\\n",
      "2        2019-12-27T11:31:11  2020-01-01T11:27:20      431769     6908304   \n",
      "3        2019-12-27T11:31:11  2020-01-01T11:27:20      431769     6908304   \n",
      "4        2019-12-27T14:07:41  2020-01-01T14:03:49      431768     6908288   \n",
      "5        2019-12-27T14:07:42  2020-01-01T14:03:51      431769     6908304   \n",
      "6        2019-12-27T17:29:01  2020-01-01T17:29:03      432002     6912032   \n",
      "...                      ...                  ...         ...         ...   \n",
      "3198112  2020-12-03T08:53:17              Unknown         127         381   \n",
      "3198113  2020-12-03T08:53:17              Unknown         127         381   \n",
      "3198114              Unknown              Unknown           0           0   \n",
      "3198115  2020-12-03T08:55:03              Unknown          21         504   \n",
      "3198116  2020-12-03T08:55:03              Unknown          21         504   \n",
      "\n",
      "         NCPUS NNode      NodeList ExitCode      State   Timelimit  \n",
      "2           16     1        r11n14      0:0  COMPLETED  5-00:00:00  \n",
      "3           16     1         r14n2      0:0  COMPLETED  5-00:00:00  \n",
      "4           16     1        r26n13      0:0  COMPLETED  5-00:00:00  \n",
      "5           16     1        r14n29      0:0  COMPLETED  5-00:00:00  \n",
      "6           16     1        r14n27      0:0    TIMEOUT  5-00:00:00  \n",
      "...        ...   ...           ...      ...        ...         ...  \n",
      "3198112      3     1         r30n3      0:0    RUNNING              \n",
      "3198113      3     1         r30n3      0:0    RUNNING              \n",
      "3198114      1     1  NoneAssigned      0:0    PENDING    10:00:00  \n",
      "3198115     24     1         r28n1      0:0    RUNNING    12:00:00  \n",
      "3198116     24     1         r28n1      0:0    RUNNING              \n",
      "\n",
      "[3198115 rows x 15 columns]\n"
     ]
    }
   ],
   "source": [
    "# Import job data\n",
    "location_job_data_csv = \"path to jobdata\"\n",
    "jobdata = preprocess_jobdata_to_df('jobdata.csv')\n",
    "print(jobdata)"
   ]
  },
  {
   "cell_type": "code",
   "execution_count": null,
   "metadata": {},
   "outputs": [],
   "source": [
    "jobdata.dtypes"
   ]
  },
  {
   "cell_type": "code",
   "execution_count": 9,
   "metadata": {},
   "outputs": [
    {
     "name": "stdout",
     "output_type": "stream",
     "text": [
      "              JobID    GID    UID  Partition               Submit  \\\n",
      "14       4175808_96  41405  41660     normal  2019-12-27T20:13:31   \n",
      "15       4175808_97  41405  41660     normal  2019-12-27T20:13:31   \n",
      "16       4175808_98  41405  41660     normal  2019-12-27T20:13:31   \n",
      "17       4175808_99  41405  41660     normal  2019-12-27T20:13:31   \n",
      "18       4175810_79  41405  41660     normal  2019-12-27T20:13:31   \n",
      "...             ...    ...    ...        ...                  ...   \n",
      "2311012     6495697  49515  49887  gpu_titan  2020-08-06T23:48:03   \n",
      "2311013     6495698  49515  49887  gpu_titan  2020-08-06T23:51:00   \n",
      "2311014     6495699  50355  50721  gpu_titan  2020-08-06T23:51:33   \n",
      "2311015     6495700  50355  50721  gpu_titan  2020-08-06T23:53:17   \n",
      "2311040     6495725  50355  50721  gpu_titan  2020-08-06T23:56:55   \n",
      "\n",
      "                       Start                  End  ElapsedRaw  CPUTimeRAW  \\\n",
      "14       2019-12-31T20:18:11  2020-01-01T02:53:31    6.588889      379520   \n",
      "15       2019-12-31T20:50:00  2020-01-01T02:16:40    5.444444      313600   \n",
      "16       2019-12-31T21:52:36  2020-01-01T04:34:50    6.703889      386144   \n",
      "17       2019-12-31T23:38:51  2020-01-01T05:03:58    5.418611      312112   \n",
      "18       2019-12-31T20:20:23  2020-01-01T01:16:36    4.936944      284368   \n",
      "...                      ...                  ...         ...         ...   \n",
      "2311012  2020-08-06T23:48:03  2020-08-06T23:48:17    0.003889         336   \n",
      "2311013  2020-08-06T23:51:01  2020-08-07T01:51:26    2.006944      173400   \n",
      "2311014  2020-08-06T23:51:33  2020-08-06T23:51:44    0.003056         264   \n",
      "2311015  2020-08-06T23:53:17  2020-08-06T23:56:36    0.055278        4776   \n",
      "2311040  2020-08-06T23:56:56  2020-08-07T00:00:14    0.055000        4752   \n",
      "\n",
      "         NCPUS NNode NodeList ExitCode      State   Timelimit  \n",
      "14          16     1   r26n31      0:0  COMPLETED  1-00:00:00  \n",
      "15          16     1   r14n32      0:0  COMPLETED  1-00:00:00  \n",
      "16          16     1    r27n8      0:0  COMPLETED  1-00:00:00  \n",
      "17          16     1   r12n20      0:0  COMPLETED  1-00:00:00  \n",
      "18          16     1   r13n29      0:0  COMPLETED  1-00:00:00  \n",
      "...        ...   ...      ...      ...        ...         ...  \n",
      "2311012     24     1    r28n5      1:0     FAILED    02:00:00  \n",
      "2311013     24     1    r29n2      0:0    TIMEOUT    02:00:00  \n",
      "2311014     24     1    r28n4      0:0  CANCELLED  2-00:00:00  \n",
      "2311015     24     1    r28n4      0:0  CANCELLED  2-00:00:00  \n",
      "2311040     24     1    r28n4      0:0  CANCELLED  2-00:00:00  \n",
      "\n",
      "[2248457 rows x 15 columns]\n"
     ]
    }
   ],
   "source": [
    "# Some extra preprocessing required for the job data, e.g. filtering out irrelevant login nodes\n",
    "filtered_jobs = jobdata[(jobdata[\"Start\"] >= '2019-12-29 23:00:00') & (jobdata[\"Start\"] <= '2020-08-07 21:59:45')]\n",
    "filtered_jobs = filtered_jobs[(~filtered_jobs[\"NodeList\"].str.contains(\"None\")) & (~filtered_jobs[\"NodeList\"].str.contains(\"software\")) & (~filtered_jobs[\"NodeList\"].str.contains(\"login\"))]\n",
    "filtered_jobs[\"ElapsedRaw\"] = filtered_jobs[\"ElapsedRaw\"].apply(lambda x: (x / 60) / 60)\n",
    "print(filtered_jobs)"
   ]
  },
  {
   "cell_type": "code",
   "execution_count": null,
   "metadata": {},
   "outputs": [],
   "source": [
    "# Generate array containing counts of job lenght \n",
    "counts = np.unique(filtered_jobs[\"ElapsedRaw\"].values, return_counts=True)\n",
    "print(counts)"
   ]
  },
  {
   "cell_type": "code",
   "execution_count": null,
   "metadata": {},
   "outputs": [],
   "source": [
    "# Visualize results\n",
    "fig = plt.figure()\n",
    "plt.yscale(\"log\")\n",
    "plt.locator_params(axis='y', numticks=12)\n",
    "plt.bar(counts[0], counts[1], width=1)\n",
    "plt.xlabel(\"Job duration (hours)\")\n",
    "plt.ylabel(\"Jobs\")\n",
    "plt.tight_layout()\n",
    "fig.savefig(\"job_duration_count.pdf\")"
   ]
  },
  {
   "cell_type": "code",
   "execution_count": null,
   "metadata": {},
   "outputs": [],
   "source": [
    "# Generate PDF/CDF\n",
    "pdf = counts[1] / np.sum(counts[1])\n",
    "cdf = np.cumsum(pdf)\n",
    "fig = plt.figure()\n",
    "\n",
    "plt.ylim(0,1.05)\n",
    "plt.plot(counts[0], cdf, drawstyle='steps')\n",
    "plt.xscale(\"log\")\n",
    "plt.xlabel(\"Job duration (hours)\")\n",
    "plt.ylabel(\"Fraction of total jobs\")\n",
    "plt.tight_layout()\n",
    "fig.savefig(\"job_duration_cdf.pdf\")"
   ]
  },
  {
   "cell_type": "code",
   "execution_count": null,
   "metadata": {},
   "outputs": [],
   "source": [
    "fig, ax1 = plt.subplots()\n",
    "\n",
    "ax1.set_xlabel('Job duration (hours)')\n",
    "ax1.set_ylabel('PDF')\n",
    "plt.ylim(-0.05,1.05)\n",
    "plt.xscale(\"log\")\n",
    "ax1.plot(counts[0], pdf, color='black', drawstyle='steps')\n",
    "ax1.tick_params(axis='y')\n",
    "\n",
    "ax2 = ax1.twinx()\n",
    "\n",
    "color = 'tab:blue'\n",
    "ax2.set_ylabel('CDF - Fraction of total jobs', color=color)\n",
    "ax2.plot(counts[0], cdf, color=color, drawstyle='steps')\n",
    "ax2.tick_params(axis='y', labelcolor=color)\n",
    "plt.ylim(-0.05,1.05)\n",
    "\n",
    "fig.tight_layout()\n",
    "plt.show()\n",
    "fig.savefig(\"job_duration_cdf_pdf.pdf\")"
   ]
  },
  {
   "cell_type": "code",
   "execution_count": 10,
   "metadata": {},
   "outputs": [
    {
     "name": "stdout",
     "output_type": "stream",
     "text": [
      "(array([  1,   2,   3,   4,   5,   6,   7,   8,   9,  10,  12,  14,  16,\n",
      "        18,  20,  21,  24,  26,  30,  32,  36,  40,  48,  64,  72,  80,\n",
      "        96, 112, 120, 128, 144, 160, 176, 192, 208, 224, 240, 256, 288,\n",
      "       320, 384, 400, 448, 480, 496, 512, 576]), array([  11399,    4926,   25710,    1775,     143,   12720,       5,\n",
      "           995,      24,      42,   16193,       2, 2133672,      13,\n",
      "          6270,       1,    8311,       1,       2,    8579,      43,\n",
      "            60,    5004,    4129,      35,    1131,     228,       9,\n",
      "            10,    5897,      14,     411,       9,      90,       5,\n",
      "             5,     123,     336,       2,      36,       1,      11,\n",
      "             1,       4,       1,      78,       1]))\n"
     ]
    }
   ],
   "source": [
    "# Generate array containing counts of cpu core allocation for jobs \n",
    "counts_cpus = np.unique(filtered_jobs[\"NCPUS\"].values, return_counts=True)\n",
    "print(counts_cpus)"
   ]
  },
  {
   "cell_type": "code",
   "execution_count": 27,
   "metadata": {},
   "outputs": [
    {
     "data": {
      "image/png": "[encoded data removed]",
      "text/plain": [
       "<Figure size 792x360 with 2 Axes>"
      ]
     },
     "metadata": {
      "needs_background": "light"
     },
     "output_type": "display_data"
    }
   ],
   "source": [
    "# Visualize results\n",
    "fig, ax = plt.subplots(figsize=(11,5))\n",
    "\n",
    "plt.yscale(\"log\")\n",
    "plt.ylim(bottom=1)\n",
    "plt.ylim(top=10**6.5)\n",
    "plt.bar(counts_cpus[0], counts_cpus[1], width=1, color=\"lightcoral\")\n",
    "plt.xlabel(\"CPU Cores in Job\", fontsize=18)\n",
    "\n",
    "majors = [0, 100, 200, 300, 400, 500, 600]\n",
    "ax.xaxis.set_major_locator(FixedLocator(majors))\n",
    "ax.xaxis.set_minor_locator(FixedLocator((np.arange(min(counts_cpus[0]-1), 600, 10))))\n",
    "ax.tick_params(axis='both', which='major', labelsize=14)\n",
    "ax.tick_params(axis='both', which='minor', labelsize=14)\n",
    "\n",
    "plt.ylabel(\"Jobs\", fontsize=18)\n",
    "plt.tight_layout()\n",
    "\n",
    "a = plt.axes([.495, .48, .45, .43], facecolor='lightgrey')\n",
    "plt.bar(counts_cpus[0][0:23], counts_cpus[1][0:23], width=0.3, color=\"lightcoral\")\n",
    "plt.title('Zoomed-in view')\n",
    "plt.yscale(\"log\")\n",
    "majors_2 = [0, 10, 20, 30, 40, 50]\n",
    "a.xaxis.set_major_locator(FixedLocator(majors_2))\n",
    "a.xaxis.set_minor_locator(FixedLocator((np.arange(min(counts_cpus[0]-1), 50, 1))))\n",
    "\n",
    "plt.show()\n",
    "date_time = datetime.now().strftime(\"%Y-%m-%d-%H-%M-%S\")\n",
    "fig.savefig(f\"job_cpus_count_zoom_{date_time}.pdf\")"
   ]
  },
  {
   "cell_type": "code",
   "execution_count": null,
   "metadata": {},
   "outputs": [],
   "source": [
    "# Plot PDF/CDF\n",
    "pdf = counts_cpus[1] / np.sum(counts_cpus[1])\n",
    "cdf = np.cumsum(pdf)\n",
    "fig = plt.figure()\n",
    "plt.ylim(0,1.05)\n",
    "plt.plot(counts_cpus[0], cdf, drawstyle='steps')\n",
    "plt.xscale(\"symlog\")\n",
    "plt.xlabel(\"CPU cores in job\")\n",
    "plt.ylabel(\"Fraction of total jobs\")\n",
    "plt.tight_layout()\n",
    "fig.savefig(\"job_cpus_cdf.pdf\")"
   ]
  },
  {
   "cell_type": "code",
   "execution_count": null,
   "metadata": {},
   "outputs": [],
   "source": [
    "# Note there seems to be some issue with the plotting library, which does not seem to show every first \n",
    "# minor tick after a major tick on log/symlog scales, even when this is hard-coded like below\n",
    "fig, ax1 = plt.subplots()\n",
    "\n",
    "ax1.set_xlabel('Number of cores in job')\n",
    "ax1.set_ylabel('PDF')\n",
    "plt.ylim(-0.05,1.05)\n",
    "plt.xscale(\"symlog\", subsx = [1,2,3,4,5,6,7,8,9])\n",
    "ax1.plot(counts_cpus[0], pdf, color='black', drawstyle='steps')\n",
    "\n",
    "ax2 = ax1.twinx()\n",
    "\n",
    "color = 'tab:blue'\n",
    "ax2.set_ylabel('CDF - Fraction of total jobs', color=color)\n",
    "ax2.plot(counts_cpus[0], cdf, color=color, drawstyle='steps')\n",
    "ax2.tick_params(axis='y', labelcolor=color)\n",
    "plt.ylim(-0.05,1.05)\n",
    "\n",
    "fig.tight_layout()\n",
    "plt.show()\n",
    "fig.savefig(\"job_cpus_cdf_pdf.pdf\")"
   ]
  },
  {
   "cell_type": "code",
   "execution_count": 20,
   "metadata": {},
   "outputs": [],
   "source": [
    "# Generate list of dates in dataset, again excluding any login nodes from the data\n",
    "group_date = jobdata[(jobdata[\"Start\"] >= '2019-12-29 23:00:00') & (jobdata[\"Start\"] <= '2020-08-07 21:59:45')]\n",
    "group_date = group_date[(~group_date[\"NodeList\"].str.contains(\"None\")) & (~group_date[\"NodeList\"].str.contains(\"software\")) & (~group_date[\"NodeList\"].str.contains(\"login\"))]\n",
    "group_date[\"Submit\"] = pd.to_datetime(group_date[\"Submit\"], utc=True)\n",
    "group_date = group_date.set_index(\"Submit\")\n",
    "group_date = group_date.groupby(group_date.index.date).count()\n",
    "datelist = list(group_date.index.values) \n",
    "submissionlist = group_date[\"JobID\"].tolist()"
   ]
  },
  {
   "cell_type": "code",
   "execution_count": null,
   "metadata": {},
   "outputs": [],
   "source": [
    "group_date = jobdata[(jobdata[\"Start\"] >= '2019-12-29 23:00:00') & (jobdata[\"Start\"] <= '2020-08-07 21:59:45')]\n",
    "group_date = group_date[(~group_date[\"NodeList\"].str.contains(\"None\")) & (~group_date[\"NodeList\"].str.contains(\"software\")) & (~group_date[\"NodeList\"].str.contains(\"login\"))]\n",
    "group_date[\"squashed_area\"] = group_date[\"ElapsedRaw\"] * group_date[\"NCPUS\"]\n",
    "group_date[\"Submit\"] = pd.to_datetime(group_date[\"Submit\"], utc=True)\n",
    "group_date = group_date.set_index(\"Submit\")\n",
    "daily_squashed_area = group_date['squashed_area'].resample('D').sum()\n",
    "\n",
    "fig = plt.figure()\n",
    "plt.yscale(\"log\")\n",
    "plt.ylim(bottom=1)\n",
    "plt.ylim(top=10**9.5)\n",
    "plt.locator_params(axis='y', numticks=12)\n",
    "plt.bar(datelist, daily_squashed_area, width=1)\n",
    "plt.xlabel(\"Date\")\n",
    "plt.ylabel(\"CPU-Hours\")\n",
    "plt.tight_layout()\n",
    "fig.savefig(\"job_squashed_area.pdf\")"
   ]
  },
  {
   "cell_type": "code",
   "execution_count": null,
   "metadata": {},
   "outputs": [],
   "source": [
    "f, (ax, ax2) = plt.subplots(2, 1, sharex=True)\n",
    "\n",
    "# plot the same data on both axes\n",
    "ax.bar(datelist, daily_squashed_area, width=1)\n",
    "ax2.bar(datelist, daily_squashed_area, width=1)\n",
    "\n",
    "ax.set_yscale(\"log\")\n",
    "ax2.set_yscale(\"log\")\n",
    "\n",
    "# zoom-in / limit the view to different portions of the data\n",
    "ax.set_ylim(10**7,10**9.25)\n",
    "ax2.set_ylim(10**0, 10**3)\n",
    "\n",
    "# hide the spines between ax and ax2\n",
    "ax.spines['bottom'].set_visible(False)\n",
    "ax2.spines['top'].set_visible(False)\n",
    "ax2.xaxis.tick_bottom()\n",
    "\n",
    "d = .015  # how big to make the diagonal lines in axes coordinates\n",
    "# arguments to pass to plot, just so we don't keep repeating them\n",
    "kwargs = dict(transform=ax.transAxes, color='k', clip_on=False)\n",
    "ax.plot((-d, +d), (-d, +d), **kwargs)        # top-left diagonal\n",
    "ax.plot((1 - d, 1 + d), (-d, +d), **kwargs)  # top-right diagonal\n",
    "\n",
    "kwargs.update(transform=ax2.transAxes)  # switch to the bottom axes\n",
    "ax2.plot((-d, +d), (1 - d, 1 + d), **kwargs)  # bottom-left diagonal\n",
    "ax2.plot((1 - d, 1 + d), (1 - d, 1 + d), **kwargs)  # bottom-right diagonal\n",
    "\n",
    "plt.xlabel(\"Date\")\n",
    "plt.ylabel(\"CPU-Hours\")\n",
    "plt.tight_layout()\n",
    "f.savefig(\"job_squashed_area_split.pdf\")"
   ]
  },
  {
   "cell_type": "code",
   "execution_count": 26,
   "metadata": {},
   "outputs": [
    {
     "name": "stderr",
     "output_type": "stream",
     "text": [
      "<ipython-input-26-465950c4d018>:3: UserWarning: Attempting to set identical bottom == top == 1 results in singular transformations; automatically expanding.\n",
      "  plt.ylim(bottom=1)\n"
     ]
    },
    {
     "data": {
      "image/png": "[encoded data removed]",
      "text/plain": [
       "<Figure size 792x360 with 1 Axes>"
      ]
     },
     "metadata": {
      "needs_background": "light"
     },
     "output_type": "display_data"
    }
   ],
   "source": [
    "fig, ax = plt.subplots(figsize=(11,5))\n",
    "plt.yscale(\"symlog\", subsy = [1,2,3,4,5,6,7,8,9])\n",
    "plt.ylim(bottom=1)\n",
    "plt.ylim(top=10**5.5)\n",
    "plt.locator_params(axis='y', numticks=12)\n",
    "plt.bar(datelist, submissionlist, width=1, color=\"lightcoral\")\n",
    "plt.xlabel(\"Date\", fontsize=18)\n",
    "plt.ylabel(\"Job Submissions\", fontsize=18)\n",
    "ax.tick_params(axis='both', which='major', labelsize=14)\n",
    "ax.tick_params(axis='both', which='minor', labelsize=14)\n",
    "plt.tight_layout()\n",
    "date_time = datetime.now().strftime(\"%Y-%m-%d-%H-%M-%S\")\n",
    "fig.savefig(f\"job_submission_count_{date_time}.pdf\")"
   ]
  },
  {
   "cell_type": "code",
   "execution_count": null,
   "metadata": {},
   "outputs": [],
   "source": []
  }
 ],
 "metadata": {
  "kernelspec": {
   "display_name": "Python 3",
   "language": "python",
   "name": "python3"
  },
  "language_info": {
   "codemirror_mode": {
    "name": "ipython",
    "version": 3
   },
   "file_extension": ".py",
   "mimetype": "text/x-python",
   "name": "python",
   "nbconvert_exporter": "python",
   "pygments_lexer": "ipython3",
   "version": "3.7.4"
  }
 },
 "nbformat": 4,
 "nbformat_minor": 4
}
