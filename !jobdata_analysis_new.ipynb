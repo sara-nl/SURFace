{
 "cells": [
  {
   "cell_type": "code",
   "execution_count": null,
   "metadata": {},
   "outputs": [],
   "source": [
    "# Collected job data from LISA-GPU using the following command:\n",
    "# sacct -a --starttime 2020-01-01 --format=jobid,gid,uid,partition,submit,start,end,elapsedraw,cputimeraw,ncpus,nnodes,nodelist,exitcode,state,timelimit > $HOME/jobdata.csv\n",
    "\n",
    "# Required packages for processing\n",
    "import numpy as np\n",
    "import pandas as pd\n",
    "import matplotlib.pyplot as plt\n",
    "import time, datetime, pytz\n",
    "from matplotlib.ticker import MultipleLocator, FixedLocator, LogLocator, NullFormatter\n",
    "from datetime import date, datetime, time\n",
    "\n",
    "%matplotlib inline"
   ]
  },
  {
   "cell_type": "code",
   "execution_count": null,
   "metadata": {},
   "outputs": [],
   "source": [
    "# Required preprocessing/parsing of the job data\n",
    "def preprocess_jobdata_to_df(name):\n",
    "    with open(name,'r') as file:\n",
    "        filedata = file.read()\n",
    "        filedata = filedata.replace('None assigned','NoneAssigned')\n",
    "    with open(str('processed_'+name),'w') as file:\n",
    "        file.write(filedata)\n",
    "    jobdata = pd.read_fwf(str('processed_'+name), delimiter=r\"\\s+\", header=None)#, low_memory=False)\n",
    "    jobdata = jobdata.apply(lambda x: x.str.strip() if x.dtype == \"object\" else x)\n",
    "    jobdata = jobdata.rename(columns=jobdata.iloc[0]).drop(jobdata.index[0])\n",
    "    jobdata = jobdata.iloc[1:]\n",
    "    jobdata = jobdata.astype({\"ElapsedRaw\": int, \"CPUTimeRAW\": int, \"NCPUS\": int})\n",
    "    return(jobdata)"
   ]
  },
  {
   "cell_type": "code",
   "execution_count": null,
   "metadata": {},
   "outputs": [],
   "source": [
    "# Import job data\n",
    "jobdata = preprocess_jobdata_to_df('jobdata.csv')\n",
    "print(jobdata)"
   ]
  },
  {
   "cell_type": "code",
   "execution_count": null,
   "metadata": {},
   "outputs": [],
   "source": [
    "jobdata.dtypes"
   ]
  },
  {
   "cell_type": "code",
   "execution_count": null,
   "metadata": {},
   "outputs": [],
   "source": [
    "# Some extra preprocessing required for the job data, e.g. filtering out irrelevant login nodes\n",
    "filtered_jobs = jobdata[(jobdata[\"Start\"] >= '2020-01-01 00:00:00') & (jobdata[\"Start\"] <= '2020-08-05 00:00:00')]\n",
    "filtered_jobs = filtered_jobs[(~filtered_jobs[\"NodeList\"].str.contains(\"None\")) & (~filtered_jobs[\"NodeList\"].str.contains(\"software\")) & (~filtered_jobs[\"NodeList\"].str.contains(\"login\"))]\n",
    "filtered_jobs[\"ElapsedRaw\"] = filtered_jobs[\"ElapsedRaw\"].apply(lambda x: (x / 60) / 60)\n",
    "print(filtered_jobs)"
   ]
  },
  {
   "cell_type": "code",
   "execution_count": null,
   "metadata": {},
   "outputs": [],
   "source": [
    "# Generate array containing counts of job lenght \n",
    "counts = np.unique(filtered_jobs[\"ElapsedRaw\"].values, return_counts=True)\n",
    "print(counts)"
   ]
  },
  {
   "cell_type": "code",
   "execution_count": null,
   "metadata": {},
   "outputs": [],
   "source": [
    "# Visualize results\n",
    "fig = plt.figure()\n",
    "plt.yscale(\"log\")\n",
    "plt.locator_params(axis='y', numticks=12)\n",
    "plt.bar(counts[0], counts[1], width=1)\n",
    "plt.xlabel(\"Job duration (hours)\")\n",
    "plt.ylabel(\"Jobs\")\n",
    "plt.tight_layout()\n",
    "fig.savefig(\"job_duration_count.pdf\")"
   ]
  },
  {
   "cell_type": "code",
   "execution_count": null,
   "metadata": {},
   "outputs": [],
   "source": [
    "# Generate PDF/CDF\n",
    "pdf = counts[1] / np.sum(counts[1])\n",
    "cdf = np.cumsum(pdf)\n",
    "fig = plt.figure()\n",
    "\n",
    "plt.ylim(0,1.05)\n",
    "plt.plot(counts[0], cdf, drawstyle='steps')\n",
    "plt.xscale(\"log\")\n",
    "plt.xlabel(\"Job duration (hours)\")\n",
    "plt.ylabel(\"Fraction of total jobs\")\n",
    "plt.tight_layout()\n",
    "fig.savefig(\"job_duration_cdf.pdf\")"
   ]
  },
  {
   "cell_type": "code",
   "execution_count": null,
   "metadata": {},
   "outputs": [],
   "source": [
    "fig, ax1 = plt.subplots()\n",
    "\n",
    "ax1.set_xlabel('Job duration (hours)')\n",
    "ax1.set_ylabel('PDF')\n",
    "plt.ylim(-0.05,1.05)\n",
    "plt.xscale(\"log\")\n",
    "ax1.plot(counts[0], pdf, color='black', drawstyle='steps')\n",
    "ax1.tick_params(axis='y')\n",
    "\n",
    "ax2 = ax1.twinx()\n",
    "\n",
    "color = 'tab:blue'\n",
    "ax2.set_ylabel('CDF - Fraction of total jobs', color=color)\n",
    "ax2.plot(counts[0], cdf, color=color, drawstyle='steps')\n",
    "ax2.tick_params(axis='y', labelcolor=color)\n",
    "plt.ylim(-0.05,1.05)\n",
    "\n",
    "fig.tight_layout()\n",
    "plt.show()\n",
    "fig.savefig(\"job_duration_cdf_pdf.pdf\")"
   ]
  },
  {
   "cell_type": "code",
   "execution_count": null,
   "metadata": {},
   "outputs": [],
   "source": [
    "# Generate array containing counts of cpu core allocation for jobs \n",
    "counts_cpus = np.unique(filtered_jobs[\"NCPUS\"].values, return_counts=True)\n",
    "print(counts_cpus)"
   ]
  },
  {
   "cell_type": "code",
   "execution_count": null,
   "metadata": {},
   "outputs": [],
   "source": [
    "# Visualize results\n",
    "fig, ax = plt.subplots()\n",
    "\n",
    "plt.yscale(\"log\")\n",
    "plt.ylim(bottom=1)\n",
    "plt.ylim(top=10**6.5)\n",
    "plt.bar(counts_cpus[0], counts_cpus[1], width=1)\n",
    "plt.xlabel(\"CPU cores in job\")\n",
    "\n",
    "majors = [0, 100, 200, 300, 400, 500, 600]\n",
    "ax.xaxis.set_major_locator(FixedLocator(majors))\n",
    "ax.xaxis.set_minor_locator(FixedLocator((np.arange(min(counts_cpus[0]-1), 600, 10))))\n",
    "\n",
    "plt.ylabel(\"Jobs\")\n",
    "plt.tight_layout()\n",
    "\n",
    "a = plt.axes([.495, .55, .45, .35], facecolor='lightgrey')\n",
    "plt.bar(counts_cpus[0][0:23], counts_cpus[1][0:23], width=0.3)\n",
    "plt.title('Zoomed-in view')\n",
    "plt.yscale(\"log\")\n",
    "majors_2 = [0, 10, 20, 30, 40, 50]\n",
    "a.xaxis.set_major_locator(FixedLocator(majors_2))\n",
    "a.xaxis.set_minor_locator(FixedLocator((np.arange(min(counts_cpus[0]-1), 50, 1))))\n",
    "\n",
    "plt.show()\n",
    "fig.savefig(\"job_cpus_count_zoom.pdf\")"
   ]
  },
  {
   "cell_type": "code",
   "execution_count": null,
   "metadata": {},
   "outputs": [],
   "source": [
    "# Plot PDF/CDF\n",
    "pdf = counts_cpus[1] / np.sum(counts_cpus[1])\n",
    "cdf = np.cumsum(pdf)\n",
    "fig = plt.figure()\n",
    "plt.ylim(0,1.05)\n",
    "plt.plot(counts_cpus[0], cdf, drawstyle='steps')\n",
    "plt.xscale(\"symlog\")\n",
    "plt.xlabel(\"CPU cores in job\")\n",
    "plt.ylabel(\"Fraction of total jobs\")\n",
    "plt.tight_layout()\n",
    "fig.savefig(\"job_cpus_cdf.pdf\")"
   ]
  },
  {
   "cell_type": "code",
   "execution_count": null,
   "metadata": {},
   "outputs": [],
   "source": [
    "# Note there seems to be some issue with the plotting library, which does not seem to show every first \n",
    "# minor tick after a major tick on log/symlog scales, even when this is hard-coded like below\n",
    "fig, ax1 = plt.subplots()\n",
    "\n",
    "ax1.set_xlabel('Number of cores in job')\n",
    "ax1.set_ylabel('PDF')\n",
    "plt.ylim(-0.05,1.05)\n",
    "plt.xscale(\"symlog\", subsx = [1,2,3,4,5,6,7,8,9])\n",
    "ax1.plot(counts_cpus[0], pdf, color='black', drawstyle='steps')\n",
    "\n",
    "ax2 = ax1.twinx()\n",
    "\n",
    "color = 'tab:blue'\n",
    "ax2.set_ylabel('CDF - Fraction of total jobs', color=color)\n",
    "ax2.plot(counts_cpus[0], cdf, color=color, drawstyle='steps')\n",
    "ax2.tick_params(axis='y', labelcolor=color)\n",
    "plt.ylim(-0.05,1.05)\n",
    "\n",
    "fig.tight_layout()\n",
    "plt.show()\n",
    "fig.savefig(\"job_cpus_cdf_pdf.pdf\")"
   ]
  },
  {
   "cell_type": "code",
   "execution_count": null,
   "metadata": {},
   "outputs": [],
   "source": [
    "# Generate list of dates in dataset, again excluding any login nodes from the data\n",
    "group_date = jobdata[(jobdata[\"Submit\"] >= '2020-01-01 00:00:00') & (jobdata[\"Submit\"] <= '2020-08-05 00:00:00')]\n",
    "group_date = group_date[(~group_date[\"NodeList\"].str.contains(\"None\")) & (~group_date[\"NodeList\"].str.contains(\"software\")) & (~group_date[\"NodeList\"].str.contains(\"login\"))]\n",
    "group_date[\"Submit\"] = pd.to_datetime(group_date[\"Submit\"], utc=True)\n",
    "group_date = group_date.set_index(\"Submit\")\n",
    "group_date = group_date.groupby(group_date.index.date).count()\n",
    "datelist = list(group_date.index.values) \n",
    "submissionlist = group_date[\"JobID\"].tolist()"
   ]
  },
  {
   "cell_type": "code",
   "execution_count": null,
   "metadata": {},
   "outputs": [],
   "source": [
    "group_date = jobdata[(jobdata[\"Submit\"] >= '2020-01-01 00:00:00') & (jobdata[\"Submit\"] <= '2020-08-05 00:00:00')]\n",
    "group_date = group_date[(~group_date[\"NodeList\"].str.contains(\"None\")) & (~group_date[\"NodeList\"].str.contains(\"software\")) & (~group_date[\"NodeList\"].str.contains(\"login\"))]\n",
    "group_date[\"squashed_area\"] = group_date[\"ElapsedRaw\"] * group_date[\"NCPUS\"]\n",
    "group_date[\"Submit\"] = pd.to_datetime(group_date[\"Submit\"], utc=True)\n",
    "group_date = group_date.set_index(\"Submit\")\n",
    "daily_squashed_area = group_date['squashed_area'].resample('D').sum()\n",
    "\n",
    "# Plot CPU-Hours per day\n",
    "fig = plt.figure()\n",
    "plt.yscale(\"log\")\n",
    "plt.ylim(bottom=1)\n",
    "plt.ylim(top=10**9.5)\n",
    "plt.locator_params(axis='y', numticks=12)\n",
    "plt.bar(datelist, daily_squashed_area, width=1)\n",
    "plt.xlabel(\"Date\")\n",
    "plt.ylabel(\"CPU-Hours\")\n",
    "plt.tight_layout()\n",
    "fig.savefig(\"job_squashed_area.pdf\")"
   ]
  },
  {
   "cell_type": "code",
   "execution_count": null,
   "metadata": {},
   "outputs": [],
   "source": [
    "# Generate the same plot with a broken/interrupted axis\n",
    "f, (ax, ax2) = plt.subplots(2, 1, sharex=True)\n",
    "\n",
    "# plot the same data on both axes\n",
    "ax.bar(datelist, daily_squashed_area, width=1)\n",
    "ax2.bar(datelist, daily_squashed_area, width=1)\n",
    "\n",
    "ax.set_yscale(\"log\")\n",
    "ax2.set_yscale(\"log\")\n",
    "\n",
    "# zoom-in / limit the view to different portions of the data\n",
    "ax.set_ylim(10**7,10**9.25)\n",
    "ax2.set_ylim(10**0, 10**3)\n",
    "\n",
    "# hide the spines between ax and ax2\n",
    "ax.spines['bottom'].set_visible(False)\n",
    "ax2.spines['top'].set_visible(False)\n",
    "ax2.xaxis.tick_bottom()\n",
    "\n",
    "d = .015  # how big to make the diagonal lines in axes coordinates\n",
    "kwargs = dict(transform=ax.transAxes, color='k', clip_on=False)\n",
    "ax.plot((-d, +d), (-d, +d), **kwargs)        # top-left diagonal\n",
    "ax.plot((1 - d, 1 + d), (-d, +d), **kwargs)  # top-right diagonal\n",
    "\n",
    "kwargs.update(transform=ax2.transAxes)  # switch to the bottom axes\n",
    "ax2.plot((-d, +d), (1 - d, 1 + d), **kwargs)  # bottom-left diagonal\n",
    "ax2.plot((1 - d, 1 + d), (1 - d, 1 + d), **kwargs)  # bottom-right diagonal\n",
    "\n",
    "plt.xlabel(\"Date\")\n",
    "plt.ylabel(\"CPU-Hours\")\n",
    "plt.tight_layout()\n",
    "f.savefig(\"job_squashed_area_split.pdf\")"
   ]
  },
  {
   "cell_type": "code",
   "execution_count": null,
   "metadata": {},
   "outputs": [],
   "source": [
    "# Plot daily number of job submissions\n",
    "fig = plt.figure()\n",
    "plt.yscale(\"symlog\", subsy = [1,2,3,4,5,6,7,8,9])\n",
    "plt.ylim(bottom=1)\n",
    "plt.ylim(top=10**5.5)\n",
    "plt.locator_params(axis='y', numticks=12)\n",
    "plt.bar(datelist, submissionlist, width=1)\n",
    "plt.xlabel(\"Date\")\n",
    "plt.ylabel(\"Number of job submissions\")\n",
    "plt.tight_layout()\n",
    "fig.savefig(\"job_submission_count.pdf\")"
   ]
  },
  {
   "cell_type": "code",
   "execution_count": null,
   "metadata": {},
   "outputs": [],
   "source": []
  }
 ],
 "metadata": {
  "kernelspec": {
   "display_name": "Python 3",
   "language": "python",
   "name": "python3"
  },
  "language_info": {
   "codemirror_mode": {
    "name": "ipython",
    "version": 3
   },
   "file_extension": ".py",
   "mimetype": "text/x-python",
   "name": "python",
   "nbconvert_exporter": "python",
   "pygments_lexer": "ipython3",
   "version": "3.7.4"
  }
 },
 "nbformat": 4,
 "nbformat_minor": 2
}
